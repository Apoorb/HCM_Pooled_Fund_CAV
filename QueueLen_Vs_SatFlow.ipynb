{
 "cells": [
  {
   "cell_type": "markdown",
   "metadata": {},
   "source": [
    "# Impact of queue length considered on Saturation Flow Rate\n",
    "Created by: Apoorb  \n",
    "Date: Dec 9, 2019"
   ]
  },
  {
   "cell_type": "markdown",
   "metadata": {},
   "source": [
    "## Load Libraries"
   ]
  },
  {
   "cell_type": "code",
   "execution_count": 1,
   "metadata": {},
   "outputs": [
    {
     "data": {
      "text/plain": [
       "'C:\\\\Users\\\\abibeka\\\\OneDrive - Kittelson & Associates, Inc\\\\Documents\\\\HCM-CAV-Pooled-Fund\\\\VissimBaseModel'"
      ]
     },
     "execution_count": 1,
     "metadata": {},
     "output_type": "execute_result"
    }
   ],
   "source": [
    "import pandas as pd\n",
    "import os\n",
    "import matplotlib.pyplot as plt\n",
    "import numpy as np\n",
    "import plotly.express as px\n",
    "import plotly.graph_objects as go\n",
    "os.chdir(r'C:\\Users\\abibeka\\OneDrive - Kittelson & Associates, Inc\\Documents\\HCM-CAV-Pooled-Fund\\VissimBaseModel')\n",
    "os.getcwd()"
   ]
  },
  {
   "cell_type": "code",
   "execution_count": 2,
   "metadata": {},
   "outputs": [],
   "source": [
    "RawData = pd.read_csv(\"RawData.csv\")\n",
    "RawData = RawData[['CycNum','Lane','tQueue','t_Entry','G_st','G_end','VehNum','PhaseNum']]\n"
   ]
  },
  {
   "cell_type": "code",
   "execution_count": 3,
   "metadata": {},
   "outputs": [],
   "source": [
    "def AvgHeadway_by_Queue(Dat, MaxVnum = 8, MinVnum = 5):\n",
    "    mask = (Dat.VehNum >= MinVnum) & (Dat.VehNum <= MaxVnum) \n",
    "    Dat = Dat[mask]\n",
    "    Dat = Dat.groupby(['CycNum','Lane']).agg({'t_Entry':['min','max'],'VehNum':['min','max']})\n",
    "    Dat.columns = ['_'.join(col).strip() for col in Dat.columns.values]\n",
    "    Dat.loc[:,'AvgHeadway'] = (Dat.t_Entry_max - Dat.t_Entry_min)/(Dat.VehNum_max - Dat.VehNum_min)\n",
    "    idx = pd.IndexSlice\n",
    "#Average headway lane 1\n",
    "    AvgSatFlowLn1 = int(np.round(3600/Dat.loc[idx[:,1],'AvgHeadway'].mean(),0))\n",
    "#Average headway lane 2\n",
    "    AvgSatFlowLn2 = int(np.round(3600/Dat.loc[idx[:,2],'AvgHeadway'].mean(),0))\n",
    "# Max veh in queue\n",
    "    \n",
    "    return ([AvgSatFlowLn1,AvgSatFlowLn2,Dat])"
   ]
  },
  {
   "cell_type": "code",
   "execution_count": 4,
   "metadata": {},
   "outputs": [],
   "source": [
    "MaxQLen = range(8, 25)"
   ]
  },
  {
   "cell_type": "code",
   "execution_count": 5,
   "metadata": {},
   "outputs": [],
   "source": [
    "DictSatFlow = {}\n",
    "for i in MaxQLen:\n",
    "    DictSatFlow[i] = AvgHeadway_by_Queue(RawData,i, 5)[:2]"
   ]
  },
  {
   "cell_type": "code",
   "execution_count": 6,
   "metadata": {},
   "outputs": [],
   "source": [
    "DatQLen =pd.DataFrame(DictSatFlow).T.reset_index()\n",
    "DatQLen.rename(columns={'index':'MaxQLenVeh',0:'SatFlowLane1',1:'SatFlowLane2'}, inplace=True)\n",
    "DatQLen.loc[:,'QStartsAt'] = \"5th_Veh\""
   ]
  },
  {
   "cell_type": "code",
   "execution_count": 7,
   "metadata": {},
   "outputs": [],
   "source": [
    "DatQLen.to_csv('SatFlow_by_MaxQueueConsidered.csv',index=False)"
   ]
  },
  {
   "cell_type": "code",
   "execution_count": null,
   "metadata": {},
   "outputs": [],
   "source": []
  },
  {
   "cell_type": "code",
   "execution_count": null,
   "metadata": {},
   "outputs": [],
   "source": []
  }
 ],
 "metadata": {
  "kernelspec": {
   "display_name": "Python 3",
   "language": "python",
   "name": "python3"
  },
  "language_info": {
   "codemirror_mode": {
    "name": "ipython",
    "version": 3
   },
   "file_extension": ".py",
   "mimetype": "text/x-python",
   "name": "python",
   "nbconvert_exporter": "python",
   "pygments_lexer": "ipython3",
   "version": "3.6.8"
  }
 },
 "nbformat": 4,
 "nbformat_minor": 2
}
