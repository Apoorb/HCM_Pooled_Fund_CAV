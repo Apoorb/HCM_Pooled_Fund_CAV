{
 "cells": [
  {
   "cell_type": "markdown",
   "metadata": {},
   "source": [
    "# Process Data Collection and Signal State Ouput --- Merge the 2\n",
    "Created by: Apoorb  \n",
    "Date: Dec 3, 2019"
   ]
  },
  {
   "cell_type": "markdown",
   "metadata": {},
   "source": [
    "## Load Libraries"
   ]
  },
  {
   "cell_type": "code",
   "execution_count": 70,
   "metadata": {},
   "outputs": [
    {
     "data": {
      "text/plain": [
       "'C:\\\\Users\\\\abibeka\\\\OneDrive - Kittelson & Associates, Inc\\\\Documents\\\\HCM-CAV-Pooled-Fund\\\\VissimBaseModel'"
      ]
     },
     "execution_count": 70,
     "metadata": {},
     "output_type": "execute_result"
    }
   ],
   "source": [
    "import pandas as pd\n",
    "import os\n",
    "import matplotlib.pyplot as plt\n",
    "import numpy as np\n",
    "import plotly.express as px\n",
    "import plotly.graph_objects as go\n",
    "os.chdir(r'C:\\Users\\abibeka\\OneDrive - Kittelson & Associates, Inc\\Documents\\HCM-CAV-Pooled-Fund\\VissimBaseModel')\n",
    "os.getcwd()"
   ]
  },
  {
   "cell_type": "markdown",
   "metadata": {},
   "source": [
    "## Process Signal Data"
   ]
  },
  {
   "cell_type": "markdown",
   "metadata": {},
   "source": [
    "Read the Signal State Data"
   ]
  },
  {
   "cell_type": "code",
   "execution_count": 71,
   "metadata": {},
   "outputs": [
    {
     "data": {
      "text/html": [
       "<div>\n",
       "<style scoped>\n",
       "    .dataframe tbody tr th:only-of-type {\n",
       "        vertical-align: middle;\n",
       "    }\n",
       "\n",
       "    .dataframe tbody tr th {\n",
       "        vertical-align: top;\n",
       "    }\n",
       "\n",
       "    .dataframe thead th {\n",
       "        text-align: right;\n",
       "    }\n",
       "</style>\n",
       "<table border=\"1\" class=\"dataframe\">\n",
       "  <thead>\n",
       "    <tr style=\"text-align: right;\">\n",
       "      <th></th>\n",
       "      <th>SimSec</th>\n",
       "      <th>PhaseNum</th>\n",
       "      <th>NewState</th>\n",
       "      <th>DurOldState</th>\n",
       "    </tr>\n",
       "  </thead>\n",
       "  <tbody>\n",
       "    <tr>\n",
       "      <th>0</th>\n",
       "      <td>0.2</td>\n",
       "      <td>1</td>\n",
       "      <td>green</td>\n",
       "      <td>0.2</td>\n",
       "    </tr>\n",
       "    <tr>\n",
       "      <th>1</th>\n",
       "      <td>0.2</td>\n",
       "      <td>5</td>\n",
       "      <td>green</td>\n",
       "      <td>0.2</td>\n",
       "    </tr>\n",
       "    <tr>\n",
       "      <th>2</th>\n",
       "      <td>15.2</td>\n",
       "      <td>1</td>\n",
       "      <td>amber</td>\n",
       "      <td>15.0</td>\n",
       "    </tr>\n",
       "    <tr>\n",
       "      <th>3</th>\n",
       "      <td>15.2</td>\n",
       "      <td>5</td>\n",
       "      <td>amber</td>\n",
       "      <td>15.0</td>\n",
       "    </tr>\n",
       "    <tr>\n",
       "      <th>4</th>\n",
       "      <td>19.2</td>\n",
       "      <td>1</td>\n",
       "      <td>red</td>\n",
       "      <td>4.0</td>\n",
       "    </tr>\n",
       "  </tbody>\n",
       "</table>\n",
       "</div>"
      ],
      "text/plain": [
       "   SimSec  PhaseNum     NewState  DurOldState\n",
       "0     0.2         1   green               0.2\n",
       "1     0.2         5   green               0.2\n",
       "2    15.2         1   amber              15.0\n",
       "3    15.2         5   amber              15.0\n",
       "4    19.2         1   red                 4.0"
      ]
     },
     "execution_count": 71,
     "metadata": {},
     "output_type": "execute_result"
    }
   ],
   "source": [
    "SigDat = pd.read_csv('VissimBaseModel_010.lsa', delimiter =';',header=None,skiprows= 19)\n",
    "SigDat.drop(columns=[1,2,6,7,8],inplace=True)\n",
    "SigDat.columns = ['SimSec','PhaseNum','NewState','DurOldState']\n",
    "SigDat.head()"
   ]
  },
  {
   "cell_type": "markdown",
   "metadata": {},
   "source": [
    "Keep only Phase 2 and 5.   \n",
    "Keep Only New state of 'green' and 'amber' : green start and green end"
   ]
  },
  {
   "cell_type": "code",
   "execution_count": 72,
   "metadata": {},
   "outputs": [
    {
     "data": {
      "text/html": [
       "<div>\n",
       "<style scoped>\n",
       "    .dataframe tbody tr th:only-of-type {\n",
       "        vertical-align: middle;\n",
       "    }\n",
       "\n",
       "    .dataframe tbody tr th {\n",
       "        vertical-align: top;\n",
       "    }\n",
       "\n",
       "    .dataframe thead th {\n",
       "        text-align: right;\n",
       "    }\n",
       "</style>\n",
       "<table border=\"1\" class=\"dataframe\">\n",
       "  <thead>\n",
       "    <tr style=\"text-align: right;\">\n",
       "      <th></th>\n",
       "      <th>SimSec</th>\n",
       "      <th>PhaseNum</th>\n",
       "      <th>NewState</th>\n",
       "      <th>DurOldState</th>\n",
       "      <th>OldState</th>\n",
       "    </tr>\n",
       "  </thead>\n",
       "  <tbody>\n",
       "    <tr>\n",
       "      <th>1</th>\n",
       "      <td>0.2</td>\n",
       "      <td>5</td>\n",
       "      <td>green</td>\n",
       "      <td>0.2</td>\n",
       "      <td>Red</td>\n",
       "    </tr>\n",
       "    <tr>\n",
       "      <th>3</th>\n",
       "      <td>15.2</td>\n",
       "      <td>5</td>\n",
       "      <td>amber</td>\n",
       "      <td>15.0</td>\n",
       "      <td>green</td>\n",
       "    </tr>\n",
       "    <tr>\n",
       "      <th>6</th>\n",
       "      <td>20.2</td>\n",
       "      <td>2</td>\n",
       "      <td>green</td>\n",
       "      <td>20.2</td>\n",
       "      <td>Red</td>\n",
       "    </tr>\n",
       "    <tr>\n",
       "      <th>8</th>\n",
       "      <td>57.2</td>\n",
       "      <td>2</td>\n",
       "      <td>amber</td>\n",
       "      <td>37.0</td>\n",
       "      <td>green</td>\n",
       "    </tr>\n",
       "    <tr>\n",
       "      <th>25</th>\n",
       "      <td>100.2</td>\n",
       "      <td>5</td>\n",
       "      <td>green</td>\n",
       "      <td>81.0</td>\n",
       "      <td>Red</td>\n",
       "    </tr>\n",
       "  </tbody>\n",
       "</table>\n",
       "</div>"
      ],
      "text/plain": [
       "    SimSec  PhaseNum NewState  DurOldState OldState\n",
       "1      0.2         5    green          0.2      Red\n",
       "3     15.2         5    amber         15.0    green\n",
       "6     20.2         2    green         20.2      Red\n",
       "8     57.2         2    amber         37.0    green\n",
       "25   100.2         5    green         81.0      Red"
      ]
     },
     "execution_count": 72,
     "metadata": {},
     "output_type": "execute_result"
    }
   ],
   "source": [
    "SigDat_Nw = SigDat.copy()\n",
    "def RenamePhase(x):\n",
    "    y= \"Null\"\n",
    "    if(x==\"green\"):\n",
    "        y=\"Red\"\n",
    "    elif (x==\"amber\"):\n",
    "        y=\"green\"\n",
    "    elif (x==\"red\"):\n",
    "        y = 'amber'\n",
    "    else : \"\"\n",
    "    return(y)\n",
    "SigDat_Nw.loc[:,'OldState'] = SigDat_Nw.NewState.apply(lambda x: RenamePhase(x.strip()))\n",
    "SigDat_Nw.loc[:,'NewState'] = SigDat_Nw.NewState.str.strip()\n",
    "SigDat_Nw = SigDat_Nw[SigDat_Nw.PhaseNum.isin([2,5])]\n",
    "SigDat_Nw = SigDat_Nw[SigDat_Nw.NewState.isin(['green','amber'])]\n",
    "SigDat_Nw.head()"
   ]
  },
  {
   "cell_type": "markdown",
   "metadata": {},
   "source": [
    "Add new labels of green start and green end"
   ]
  },
  {
   "cell_type": "code",
   "execution_count": 73,
   "metadata": {},
   "outputs": [
    {
     "data": {
      "text/html": [
       "<div>\n",
       "<style scoped>\n",
       "    .dataframe tbody tr th:only-of-type {\n",
       "        vertical-align: middle;\n",
       "    }\n",
       "\n",
       "    .dataframe tbody tr th {\n",
       "        vertical-align: top;\n",
       "    }\n",
       "\n",
       "    .dataframe thead th {\n",
       "        text-align: right;\n",
       "    }\n",
       "</style>\n",
       "<table border=\"1\" class=\"dataframe\">\n",
       "  <thead>\n",
       "    <tr style=\"text-align: right;\">\n",
       "      <th></th>\n",
       "      <th>SimSec</th>\n",
       "      <th>PhaseNum</th>\n",
       "      <th>NewState</th>\n",
       "      <th>GrStat</th>\n",
       "    </tr>\n",
       "  </thead>\n",
       "  <tbody>\n",
       "    <tr>\n",
       "      <th>0</th>\n",
       "      <td>0.2</td>\n",
       "      <td>5</td>\n",
       "      <td>green</td>\n",
       "      <td>G_st</td>\n",
       "    </tr>\n",
       "    <tr>\n",
       "      <th>1</th>\n",
       "      <td>15.2</td>\n",
       "      <td>5</td>\n",
       "      <td>amber</td>\n",
       "      <td>G_end</td>\n",
       "    </tr>\n",
       "    <tr>\n",
       "      <th>2</th>\n",
       "      <td>20.2</td>\n",
       "      <td>2</td>\n",
       "      <td>green</td>\n",
       "      <td>G_st</td>\n",
       "    </tr>\n",
       "    <tr>\n",
       "      <th>3</th>\n",
       "      <td>57.2</td>\n",
       "      <td>2</td>\n",
       "      <td>amber</td>\n",
       "      <td>G_end</td>\n",
       "    </tr>\n",
       "    <tr>\n",
       "      <th>4</th>\n",
       "      <td>100.2</td>\n",
       "      <td>5</td>\n",
       "      <td>green</td>\n",
       "      <td>G_st</td>\n",
       "    </tr>\n",
       "  </tbody>\n",
       "</table>\n",
       "</div>"
      ],
      "text/plain": [
       "   SimSec  PhaseNum NewState GrStat\n",
       "0     0.2         5    green   G_st\n",
       "1    15.2         5    amber  G_end\n",
       "2    20.2         2    green   G_st\n",
       "3    57.2         2    amber  G_end\n",
       "4   100.2         5    green   G_st"
      ]
     },
     "execution_count": 73,
     "metadata": {},
     "output_type": "execute_result"
    }
   ],
   "source": [
    "SigDat_Nw  = SigDat_Nw[['SimSec','PhaseNum','NewState']]\n",
    "SigDat_Nw.loc[:,'GrStat'] = SigDat_Nw.NewState.apply(lambda x: 'G_st' if x==\"green\" else \"G_end\")\n",
    "SigDat_Nw.sort_values('SimSec',inplace=True)\n",
    "SigDat_Nw.reset_index(drop=True,inplace=True)\n",
    "SigDat_Nw.head()\n",
    "#SigDat_Nw.tail()"
   ]
  },
  {
   "cell_type": "code",
   "execution_count": 74,
   "metadata": {},
   "outputs": [
    {
     "data": {
      "text/plain": [
       "array([ 1.,  1.,  1.,  1.,  2.,  2.,  2.,  2.,  3.,  3.,  3.,  3.,  4.,\n",
       "        4.,  4.,  4.,  5.,  5.,  5.,  5.,  6.,  6.,  6.,  6.,  7.,  7.,\n",
       "        7.,  7.,  8.,  8.,  8.,  8.,  9.,  9.,  9.,  9., 10., 10., 10.,\n",
       "       10., 11., 11., 11., 11., 12., 12., 12., 12., 13., 13., 13., 13.,\n",
       "       14., 14., 14., 14., 15., 15., 15., 15., 16., 16., 16., 16., 17.,\n",
       "       17., 17., 17., 18., 18., 18., 18., 19., 19., 19., 19., 20., 20.,\n",
       "       20., 20., 21., 21., 21., 21.])"
      ]
     },
     "execution_count": 74,
     "metadata": {},
     "output_type": "execute_result"
    }
   ],
   "source": [
    "np.ceil((SigDat_Nw.index.values+1) /4) #Cycle numbers if 1st row is kept"
   ]
  },
  {
   "cell_type": "code",
   "execution_count": 75,
   "metadata": {},
   "outputs": [
    {
     "data": {
      "text/plain": [
       "array([ 0.,  1.,  1.,  1.,  1.,  2.,  2.,  2.,  2.,  3.,  3.,  3.,  3.,\n",
       "        4.,  4.,  4.,  4.,  5.,  5.,  5.,  5.,  6.,  6.,  6.,  6.,  7.,\n",
       "        7.,  7.,  7.,  8.,  8.,  8.,  8.,  9.,  9.,  9.,  9., 10., 10.,\n",
       "       10., 10., 11., 11., 11., 11., 12., 12., 12., 12., 13., 13., 13.,\n",
       "       13., 14., 14., 14., 14., 15., 15., 15., 15., 16., 16., 16., 16.,\n",
       "       17., 17., 17., 17., 18., 18., 18., 18., 19., 19., 19., 19., 20.,\n",
       "       20., 20., 20., 21., 21., 21.])"
      ]
     },
     "execution_count": 75,
     "metadata": {},
     "output_type": "execute_result"
    }
   ],
   "source": [
    "np.ceil((SigDat_Nw.index.values) /4) #Cycle numbers if 1st row is deleted"
   ]
  },
  {
   "cell_type": "markdown",
   "metadata": {},
   "source": [
    "Create Green Start, End Pairs : Call them CycNum"
   ]
  },
  {
   "cell_type": "code",
   "execution_count": 76,
   "metadata": {},
   "outputs": [],
   "source": [
    "if(SigDat_Nw.GrStat.values[0] == 'G_st'):\n",
    "    SigDat_Nw.loc[:,'CycNum'] = np.ceil((SigDat_Nw.index.values+1) /4)\n",
    "else:\n",
    "    SigDat_Nw.drop(index = 0,inplace =True)\n",
    "    SigDat_Nw.loc[:,'CycNum'] = np.ceil((SigDat_Nw.index.values) /4)"
   ]
  },
  {
   "cell_type": "code",
   "execution_count": 77,
   "metadata": {},
   "outputs": [],
   "source": [
    "SigDat_Nw.sort_values('SimSec',inplace=True)"
   ]
  },
  {
   "cell_type": "markdown",
   "metadata": {},
   "source": [
    "Get start and end of phase 1 and 5 within each cycle"
   ]
  },
  {
   "cell_type": "code",
   "execution_count": 80,
   "metadata": {},
   "outputs": [
    {
     "data": {
      "text/html": [
       "<div>\n",
       "<style scoped>\n",
       "    .dataframe tbody tr th:only-of-type {\n",
       "        vertical-align: middle;\n",
       "    }\n",
       "\n",
       "    .dataframe tbody tr th {\n",
       "        vertical-align: top;\n",
       "    }\n",
       "\n",
       "    .dataframe thead th {\n",
       "        text-align: right;\n",
       "    }\n",
       "</style>\n",
       "<table border=\"1\" class=\"dataframe\">\n",
       "  <thead>\n",
       "    <tr style=\"text-align: right;\">\n",
       "      <th>GrStat</th>\n",
       "      <th>CycNum</th>\n",
       "      <th>PhaseNum</th>\n",
       "      <th>G_end</th>\n",
       "      <th>G_st</th>\n",
       "    </tr>\n",
       "  </thead>\n",
       "  <tbody>\n",
       "    <tr>\n",
       "      <th>36</th>\n",
       "      <td>19.0</td>\n",
       "      <td>2</td>\n",
       "      <td>1857.2</td>\n",
       "      <td>1820.2</td>\n",
       "    </tr>\n",
       "    <tr>\n",
       "      <th>39</th>\n",
       "      <td>20.0</td>\n",
       "      <td>5</td>\n",
       "      <td>1915.2</td>\n",
       "      <td>1900.2</td>\n",
       "    </tr>\n",
       "    <tr>\n",
       "      <th>38</th>\n",
       "      <td>20.0</td>\n",
       "      <td>2</td>\n",
       "      <td>1957.2</td>\n",
       "      <td>1920.2</td>\n",
       "    </tr>\n",
       "    <tr>\n",
       "      <th>41</th>\n",
       "      <td>21.0</td>\n",
       "      <td>5</td>\n",
       "      <td>2015.2</td>\n",
       "      <td>2000.2</td>\n",
       "    </tr>\n",
       "    <tr>\n",
       "      <th>40</th>\n",
       "      <td>21.0</td>\n",
       "      <td>2</td>\n",
       "      <td>2057.2</td>\n",
       "      <td>2020.2</td>\n",
       "    </tr>\n",
       "  </tbody>\n",
       "</table>\n",
       "</div>"
      ],
      "text/plain": [
       "GrStat  CycNum  PhaseNum   G_end    G_st\n",
       "36        19.0         2  1857.2  1820.2\n",
       "39        20.0         5  1915.2  1900.2\n",
       "38        20.0         2  1957.2  1920.2\n",
       "41        21.0         5  2015.2  2000.2\n",
       "40        21.0         2  2057.2  2020.2"
      ]
     },
     "execution_count": 80,
     "metadata": {},
     "output_type": "execute_result"
    }
   ],
   "source": [
    "SigDat_Nw_clean = pd.pivot_table(SigDat_Nw,values = 'SimSec',index=['CycNum','PhaseNum'],columns='GrStat').reset_index()\n",
    "SigDat_Nw_clean.sort_values(['G_st'],inplace=True)\n",
    "SigDat_Nw_clean.head()\n",
    "SigDat_Nw_clean.tail()"
   ]
  },
  {
   "cell_type": "markdown",
   "metadata": {},
   "source": [
    "## Process Data Collection Point Output"
   ]
  },
  {
   "cell_type": "code",
   "execution_count": 81,
   "metadata": {},
   "outputs": [],
   "source": [
    "DataColDat = pd.read_csv('VissimBaseModel_010.mer', delimiter =';',skiprows= 11)\n",
    "DataColDat = DataColDat.iloc[:,0:-1]\n",
    "DataColDat.columns = ['Lane','t_Entry','t_Exit','VehNo','VehType','Del','V_mph','Acc_ftsec2','Del2','Del3','tQueue','VehLen_ft']\n",
    "DataColDat = DataColDat[['Lane','t_Entry','t_Exit','VehNo','VehType','V_mph','Acc_ftsec2','tQueue','VehLen_ft']]\n",
    "DataColDat_Sub = DataColDat[DataColDat.t_Entry!=-1]\n",
    "DataColDat_Sub = DataColDat_Sub[['Lane','t_Entry','tQueue','VehLen_ft','V_mph','Acc_ftsec2']]"
   ]
  },
  {
   "cell_type": "code",
   "execution_count": 82,
   "metadata": {},
   "outputs": [],
   "source": [
    "DataColDat_Sub.shape[0]\n",
    "DataColDat_Sub.head()\n",
    "DataColDat_Sub.sort_values('t_Entry',inplace=True)"
   ]
  },
  {
   "cell_type": "markdown",
   "metadata": {},
   "source": [
    "Use pandas.merge_asof for merging t_Entry in data collection results to the nearest phase start time.   \n",
    "Similar to infimum ~ Greatest lower bound  \n",
    "https://pandas.pydata.org/pandas-docs/stable/reference/api/pandas.merge_asof.html  \n",
    "A “backward” search selects the last row in the right DataFrame whose ‘on’ key is less than or equal to the left’s key.  "
   ]
  },
  {
   "cell_type": "code",
   "execution_count": 83,
   "metadata": {},
   "outputs": [],
   "source": [
    "CombData_Ln_Dict = {}\n",
    "for Ln in [1,2]:\n",
    "    CombData_Ln_Dict[Ln] = pd.merge_asof(DataColDat_Sub[DataColDat_Sub.Lane==Ln],SigDat_Nw_clean, left_on='t_Entry', right_on= 'G_st',direction = 'backward')\n",
    "    # Check the vehicles that eneter the intersection during Amber Indication \n",
    "    CombData_Ln_Dict[Ln].loc[:,'VehinAmber'] = CombData_Ln_Dict[Ln].t_Entry > CombData_Ln_Dict[Ln].G_end\n",
    "CombData = pd.concat([CombData_Ln_Dict[1],CombData_Ln_Dict[2]])\n",
    "#CombData_Ln_Dict[Ln][CombData_Ln_Dict[Ln].VehinAmber]"
   ]
  },
  {
   "cell_type": "code",
   "execution_count": 84,
   "metadata": {},
   "outputs": [
    {
     "name": "stdout",
     "output_type": "stream",
     "text": [
      "2    289\n",
      "Name: PhaseNum, dtype: int64\n",
      "2    351\n",
      "Name: PhaseNum, dtype: int64\n"
     ]
    }
   ],
   "source": [
    "Ln=1\n",
    "CombData_Ln_Dict[Ln][CombData_Ln_Dict[Ln].VehinAmber]\n",
    "\n",
    "print(CombData_Ln_Dict[Ln].PhaseNum.value_counts())\n",
    "Ln=2\n",
    "print(CombData_Ln_Dict[Ln].PhaseNum.value_counts())"
   ]
  },
  {
   "cell_type": "code",
   "execution_count": 85,
   "metadata": {},
   "outputs": [],
   "source": [
    "CombData.sort_values(['CycNum','Lane'],inplace=True)\n",
    "CombData.loc[:,'VehNum'] = np.hstack(CombData.groupby(['CycNum','Lane'])['t_Entry'].apply(lambda x: np.arange(1,len(x)+1)).values)"
   ]
  },
  {
   "cell_type": "code",
   "execution_count": 86,
   "metadata": {},
   "outputs": [],
   "source": [
    "CombData.loc[:,'dummy'] = 1\n",
    "CombData.loc[:,'VehNum2'] =  CombData.groupby(['CycNum','Lane']).dummy.cumsum().values\n",
    "CombData.loc[:,'Error'] = CombData.loc[:,'VehNum2'] - CombData.loc[:,'VehNum']\n",
    "CombData.loc[:,'Error'].value_counts()\n",
    "CombData.reset_index(drop = True, inplace=True)\n",
    "CombData_Backup = CombData.copy()\n"
   ]
  },
  {
   "cell_type": "code",
   "execution_count": 87,
   "metadata": {},
   "outputs": [
    {
     "name": "stdout",
     "output_type": "stream",
     "text": [
      "475\n",
      "640\n"
     ]
    }
   ],
   "source": [
    "CombData = CombData[['CycNum','Lane','tQueue','t_Entry','G_st','G_end','VehNum','PhaseNum']]\n",
    "# Get the timestamp for the 4th veh and the last vehicle in the queue\n",
    "mask = (CombData.VehNum >4) & (CombData.tQueue> 0)\n",
    "print(mask.sum()) # of values kept\n",
    "print(mask.shape[0]) #orignal size\n",
    "CombData = CombData[mask]"
   ]
  },
  {
   "cell_type": "code",
   "execution_count": 88,
   "metadata": {},
   "outputs": [],
   "source": [
    "CombData = CombData.groupby(['CycNum','Lane']).agg({'t_Entry':['min','max'],'VehNum':['min','max']})"
   ]
  },
  {
   "cell_type": "code",
   "execution_count": 89,
   "metadata": {},
   "outputs": [],
   "source": [
    "CombData.columns = ['_'.join(col).strip() for col in CombData.columns.values]"
   ]
  },
  {
   "cell_type": "code",
   "execution_count": 90,
   "metadata": {},
   "outputs": [],
   "source": [
    "CombData.loc[:,'AvgHeadway'] = (CombData.t_Entry_max - CombData.t_Entry_min)/(CombData.VehNum_max - CombData.VehNum_min)"
   ]
  },
  {
   "cell_type": "code",
   "execution_count": 91,
   "metadata": {},
   "outputs": [
    {
     "name": "stdout",
     "output_type": "stream",
     "text": [
      "1485.5749328414863\n",
      "1859.0198215100847\n"
     ]
    }
   ],
   "source": [
    "CombData.AvgHeadway.describe()\n",
    "idx = pd.IndexSlice\n",
    "\n",
    "#Average headway lane 1\n",
    "print(3600/CombData.loc[idx[:,1],'AvgHeadway'].mean())\n",
    "#Average headway lane 2\n",
    "print(3600/CombData.loc[idx[:,2],'AvgHeadway'].mean())"
   ]
  },
  {
   "cell_type": "code",
   "execution_count": 92,
   "metadata": {},
   "outputs": [],
   "source": [
    "CombData.to_csv('CheckDat.csv')"
   ]
  },
  {
   "cell_type": "code",
   "execution_count": 93,
   "metadata": {},
   "outputs": [],
   "source": [
    "VisualData = CombData_Backup.copy()\n",
    "VisualData.loc[:,'Headway'] = VisualData.groupby(['CycNum','Lane'])['t_Entry'].diff()\n",
    "VisualData.dropna(inplace=True)\n",
    "VisualData = VisualData[['CycNum','Lane','t_Entry','G_st','G_end','VehNum2','Headway','tQueue']]"
   ]
  },
  {
   "cell_type": "code",
   "execution_count": 100,
   "metadata": {},
   "outputs": [
    {
     "name": "stdout",
     "output_type": "stream",
     "text": [
      "count    568.000000\n",
      "mean       3.352641\n",
      "std        5.488233\n",
      "min      -25.400000\n",
      "25%        0.100000\n",
      "50%        2.300000\n",
      "75%        5.900000\n",
      "max       30.900000\n",
      "Name: tQueue, dtype: float64\n"
     ]
    },
    {
     "data": {
      "text/plain": [
       "array([  6. ,   4.1,   6.2,   1. ,  -0.5,  -0.5,  16.3,  20.5,   6. ,\n",
       "         1.6,  -0.4,   6.6,   0.2,   1.4,   2.7,   nan,  12.2,   0.2,\n",
       "         1.8,   1.3,   4. ,   0.1,  -0.5,  30.9,   8.4,   4.3,   0.3,\n",
       "         1.1,  -0.2,  -0.5,   2. ,  -1.7,  -0.2,   3.4,   nan,   4.1,\n",
       "         2.2,   7.2,   6.1,   0.3,   0.8,  17. ,  -0.2,  -1.9,   0.3,\n",
       "        -0.7,  -0.3,   7.9,   nan,   0.8,  11.1,   3.3,  12. ,   1.1,\n",
       "         2.4,   4.4,   4.3,   1.5,  -1.8,   1.2,  -1.3,   0.5,  -1.2,\n",
       "         7.1,   0.3,   1.7,   9. ,   nan,   4.6,  10.5,   0. ,   2.7,\n",
       "         5.7,   2.5,  -0.1,   0.9,  -0.6,   1.8,  -0.2,   3.1,   2.7,\n",
       "         nan,   5.1,  10.8,   0.4,   3.9,   2.4,   1.3,   2.4,   0.8,\n",
       "        -0.1,   0.7,  -0.4,   0.4,  -0.1,   0. ,  -5.9,   3.7,  -0.7,\n",
       "         7.5,   nan,   3.3,   6.7,   2.4,   5.1,   0.8,   0.2,  -0.1,\n",
       "         0.1,  -0.7,   5.9,  10.2,   4.2,  12.2,  -1.1,  -1. ,  -1.6,\n",
       "         nan,   2.3,   2.8,   8.6,  10.8,   1. ,   4.7,  -0.4,   1. ,\n",
       "        -0.1,   0.1,  -0.4,   3.8,   2.5,   6.3,  10.3,   1.7,  -0.7,\n",
       "         3.4,  -0.5,   3.4,   nan,   0.2,   4.5,   8. ,   1. ,   5.3,\n",
       "         8.1,  -0.4,  25.5,   5.9,   0.7,   7.6,   nan,   1.2,  -7. ,\n",
       "        15.9,   4.1,  -0.1,   2.7,  -0.4,   9.4,   2.7,  16.1, -11.2,\n",
       "         8.4,  14.7,  -3.8,   7. ,   nan,   1.3,   3.7,   5.6,   2.9,\n",
       "         0.3,   0.3,   6.7,   2.1,   0.2,  -1.6,  12.2,   2.6,   5.7,\n",
       "        17.8, -18.4,   nan,   1. ,   5. ,  -0.4,  -0.1,   2.4,   3.8,\n",
       "         1.9,   2.9,   4.2,   4.1, -11.4,  14.8,   2.3,  18.6, -23.6,\n",
       "        23.9, -25.4,  21.6,  -3.1,   nan,   2.2,   5.8,   1.9,   4.2,\n",
       "         3.3,   1.4,   6. ,   7. ,  11.3,  -0.7,   2.6,   5.9,   5. ,\n",
       "         1.3,   nan,   2.8,   0. ,   0.1,   1.4,  -0.7,  10.9,   9.7,\n",
       "         4.1,   7.9,   0.3,   0.6,   6.7, -14.2,   3.7,  13.7,  -0.2,\n",
       "         0.1,   2.7,  -5. ,   5.5,  12. ,   nan,  18.4,   3.4,   2.6,\n",
       "         0.1,  -0.8,   5. ,   7.4,   2.3,  -0.4,   1.5,   7.4,  -1.3,\n",
       "         8.8,  -1.7,   nan,   3.1,   6.5,   8.4,  -0.2,   1.3,   1.2,\n",
       "         0.7,   0.6,   6.5,   1.1,   6.8,  -0.3,  -1.3,   2.1,   6.3,\n",
       "         6.1,  -4.5,   7.5,   0. ,   nan,   0.8,   3.9,   0.2,   2.6,\n",
       "         2.2,  10.1,   0.2,   0.6,   8.1,   1.9,   5.9,   5.2,  16.7,\n",
       "         nan,  -0.6,   0.5,  -0.4,  12.9,   4.8,  -0.6,   0.2,  10.2,\n",
       "         3.5,   2.2,   0.8,  -0.6,   4.5,  10. ,   6. ,   0. ,   0. ,\n",
       "         0. ,   nan,   3.4,   0.3,   0. ,   0.2,   2.1,  16.4,   2.3,\n",
       "         0.2,   1.1,  -0.4,  -0.3,   2.4,   8.5,   0.9,   nan,  14.4,\n",
       "        14.2,   0.2,   1. ,   3.2,   0. ,   0.2,   1.6,   3.8,   0.3,\n",
       "         0.2,  -0.3,  -5.9,   9.4,  -0.5,  -0.8,   2.6,   1.9,   nan,\n",
       "         0. ,   0.5,   1.3,  -4.6,   3.3,   3.4,   0.7,  -0.2,   0.1,\n",
       "         4.4,   9.4,   5.5,   6.5,   3.8,   3. ,   nan,  -0.8,  -0.5,\n",
       "         1.5,   3. ,   6.3,   1.3,  -0.4,   3.3,  10.5,   3.4,   9.1,\n",
       "         1. ,  11.2,  -0.8,   nan,   7.8,  -0.2,   2.3,  -0.1,   4.9,\n",
       "        -0.1,  -0.2,   0.7,   6.8,  22.6,   2.9,  -0.2,   0.2,   nan,\n",
       "         4.9,   1.7,   0.5,   2.6,   0.5,  -0.1,   6.4,   8.5,   2.5,\n",
       "         8.1,   8. ,  -5.3,  -0.4,   7.2,  -3.2,   0.4,   5.7,  -5.9,\n",
       "         nan,  -0.1,   4.5,  -1.4,   7.7,   2. ,   7.6,   4.5,   1.5,\n",
       "         6.3,   1.2,  -0.3,  18.1,   5.4,   0. ,   nan,   3.7,   6. ,\n",
       "         9.4,   1.6,  -0.6,   0.6,   4.9,   3.7,   2. ,   0. ,  -2.6,\n",
       "         8.6,   5.3,   4.4,  -0.6,  -0.4,   7.4,   1. ,   0.2,   6.4,\n",
       "         nan,   8.7,  -1. ,   9.7,  -9.2,   5.1,  11.4,   3. ,  -6.3,\n",
       "        13.6,   1.9,   4.2,   0. ,   2.4,  -0.3,  -0.8,  13.4,   nan,\n",
       "         9.9,  -3.6,   4.2,   3.7,  11.2,  -0.2,   1.2,   2.7,   3.4,\n",
       "         0.2,   2.6,   5.5,   nan,  -1.1,  -1.8,  -0.7,   3.9,  -5.1,\n",
       "         9.9,   7.8,   3.2,  13.2,   0.3,   5. ,   1.2,   6. ,   2.4,\n",
       "         1.8,   nan,   0.7,  -0.1,   3.9,   1.3,   9.8,   1.6,   5.5,\n",
       "        -0.3,   4.1,   5.7,  -0.6,  -0.2,  -0.3,   3.1,  -0.1,   6. ,\n",
       "         7.7,  -1.7,   nan,   5.2,   3.4,   5.4,   0.5,   2. ,  -0.1,\n",
       "         3.6,   1.5,  16.2,  -2.4,   4.1,  13.3,   1.4,  12.9,  -0.8,\n",
       "         nan,   3.9,  10.2,   1.6,   4.1,   3.9,  10.8,  12.1,  -0.1,\n",
       "         0.9,   5.3,  -8.5,  26.4,  -2.9,   7.1,   nan,   0.6,   0.6,\n",
       "        -0.5,   1.8,   1.5,   2.7,  14.5,   0.4,   3. ,  11.2,  -1.1,\n",
       "        -0.3,  18.2,   7. ,   nan,   0.3,   2.3,   9.3,   1.1,   9.3,\n",
       "         2.3,   8.7,   4.7,   2.4,   3.8,  -0.2,   1.1,  13.5,   3.9,\n",
       "         2.4,   0.6,   3.6,  -4.7,   4.7,   0. ,   nan,   4.1,   2.2,\n",
       "         7.4,  14.2,   2.8,   1. ,   0.7,   0.9,   6. ,   8.2,   2.3,\n",
       "         6.4,   0. ,   nan,   1. ,   9.3,   8. ,   9.8,   8.6,   0.1,\n",
       "         3.8,   6.1,   1.4,   0.1,   2.6,   7.6,   0. ,   0. ,   0. ,\n",
       "         nan])"
      ]
     },
     "execution_count": 100,
     "metadata": {},
     "output_type": "execute_result"
    }
   ],
   "source": [
    "# Delay should in general keep on decreasing after the start of green\n",
    "print( VisualData.groupby(['CycNum','Lane'])['tQueue'].diff(-1).describe())\n",
    "VisualData.groupby(['CycNum','Lane'])['tQueue'].diff(-1).values"
   ]
  },
  {
   "cell_type": "code",
   "execution_count": 94,
   "metadata": {},
   "outputs": [],
   "source": [
    "Cycle_St_End = VisualData.groupby('CycNum')['G_st','G_end'].first()\n",
    "list_shade = []\n",
    "for index, row in Cycle_St_End.iterrows():\n",
    "    list_shade.append(\n",
    "    go.layout.Shape(\n",
    "    type = 'rect',\n",
    "    xref='x',\n",
    "    yref ='paper',\n",
    "    x0= row['G_st'],\n",
    "    y0 = 0,\n",
    "    x1 = row['G_end'],\n",
    "    y1= 1,\n",
    "    fillcolor = \"LightSalmon\",\n",
    "    opacity = 0.5,\n",
    "    layer = \"below\",\n",
    "    line_width = 0)\n",
    "    )"
   ]
  },
  {
   "cell_type": "code",
   "execution_count": 95,
   "metadata": {
    "scrolled": true
   },
   "outputs": [
    {
     "data": {
      "application/vnd.plotly.v1+json": {
       "config": {
        "plotlyServerURL": "https://plot.ly"
       },
       "data": [
        {
         "mode": "markers",
         "name": "markers",
         "type": "scatter",
         "x": [
          324.12,
          326.19,
          328.37,
          330.32,
          332,
          334.83,
          337.2,
          339.35,
          340.9,
          342.19,
          344.94,
          347.65,
          349.98,
          351.87,
          357.1,
          361.67,
          424.11,
          426.52,
          430.04,
          432.05,
          434.17,
          435.81,
          437.64,
          440.35,
          442.79,
          445.95,
          448.05,
          450.66,
          452.28,
          457.83,
          524.02,
          526.41,
          529.46,
          531.73,
          534.47,
          537.01,
          539.7,
          542.93,
          545.42,
          547.55,
          549.9,
          551.9,
          553.87,
          558.04,
          624.05,
          626.33,
          627.91,
          630.29,
          631.8,
          633.66,
          635.48,
          638.4,
          641.38,
          643.65,
          645.65,
          647.75,
          649.4,
          652.87,
          654.66,
          657.05,
          658.97,
          724.67,
          727.88,
          730.84,
          733.5,
          735.91,
          737.82,
          739.57,
          742.77,
          751.42,
          754.62,
          757.22,
          758.92,
          824.35,
          827.26,
          829.1,
          831.22,
          833.19,
          834.76,
          836.46,
          838.79,
          840.88,
          845.04,
          847.77,
          849.59,
          852.65,
          854.69,
          857.27,
          859.16,
          924.1,
          926.96,
          928.87,
          930.73,
          932.3,
          933.86,
          936.17,
          937.31,
          940.61,
          942.57,
          944.44,
          946.35,
          951.33,
          952.95,
          956.08,
          1024.19,
          1026.5,
          1028.81,
          1030.62,
          1032.66,
          1035.92,
          1037.54,
          1040.47,
          1042.34,
          1044.61,
          1046.49,
          1051.39,
          1053.94,
          1056.87,
          1059.25,
          1124.44,
          1126.24,
          1128.64,
          1130.68,
          1133.21,
          1135.78,
          1138.34,
          1140.11,
          1141.67,
          1143.19,
          1144.92,
          1146.18,
          1150.04,
          1151.71,
          1224.15,
          1226.16,
          1228.13,
          1230.1,
          1233.08,
          1235.94,
          1238.1,
          1240.61,
          1243.07,
          1245.17,
          1246.7,
          1248.4,
          1250.66,
          1256.12,
          1257.59,
          1324.34,
          1326.96,
          1329.79,
          1332.61,
          1335.63,
          1338.5,
          1340.64,
          1343.08,
          1345.39,
          1347.54,
          1349.16,
          1350.32,
          1353.89,
          1355.88,
          1357.76,
          1360.99,
          1424.19,
          1426.34,
          1429.09,
          1431.63,
          1433.81,
          1435.47,
          1437.93,
          1439.93,
          1442.1,
          1444,
          1445.82,
          1449.67,
          1454.33,
          1456.19,
          1524.29,
          1526.43,
          1529.42,
          1531.95,
          1533.65,
          1535.29,
          1536.66,
          1537.91,
          1539.1,
          1542.48,
          1545.1,
          1549.89,
          1552.25,
          1555.09,
          1557.08,
          1624.39,
          1626.53,
          1628.16,
          1629.7,
          1631.82,
          1634.16,
          1636.31,
          1639.66,
          1641.93,
          1644.47,
          1647.04,
          1649.88,
          1651.65,
          1653.84,
          1655.6,
          1657.17,
          1659.56,
          1724.35,
          1726.91,
          1729.77,
          1731.83,
          1734.35,
          1736.17,
          1738.47,
          1740.9,
          1743.14,
          1744.88,
          1746.53,
          1748.28,
          1749.99,
          1751.43,
          1754.84,
          1758.27,
          1824.25,
          1826.38,
          1827.9,
          1830.04,
          1831.67,
          1833.66,
          1835.43,
          1838.24,
          1840.42,
          1843.97,
          1847.79,
          1850.25,
          1852.11,
          1853.86,
          1856.85,
          1858.68,
          1923.99,
          1926.16,
          1927.87,
          1930.37,
          1931.94,
          1933.87,
          1937.47,
          1939.62,
          1941.54,
          1943.43,
          1946.24,
          1949.81,
          1952.47,
          1955.46,
          1958.06,
          2024.48,
          2027.25,
          2029.95,
          2032.6,
          2035.4,
          2037.39,
          2039.46,
          2041.16,
          2043.05,
          2045.82,
          2048.07,
          2050.24,
          2052.36,
          2055.79
         ],
         "y": [
          66.9,
          54.7,
          54.5,
          52.7,
          51.4,
          47.4,
          47.3,
          47.8,
          16.9,
          8.5,
          4.2,
          3.9,
          2.8,
          3,
          3.5,
          1.5,
          3.2,
          3.4,
          0,
          56.4,
          55.6,
          44.5,
          41.2,
          29.2,
          28.1,
          25.7,
          21.3,
          17,
          15.5,
          17.3,
          16.1,
          17.4,
          16.9,
          18.1,
          11,
          10.7,
          9,
          0,
          55.9,
          50.8,
          40,
          39.6,
          35.7,
          33.3,
          32,
          29.6,
          28.8,
          28.9,
          28.2,
          28.6,
          28.2,
          28.3,
          28.3,
          34.2,
          30.5,
          31.2,
          23.7,
          80.5,
          78.2,
          75.4,
          66.8,
          56,
          55,
          50.3,
          50.7,
          49.7,
          49.8,
          49.7,
          50.1,
          46.3,
          43.8,
          37.5,
          27.2,
          25.5,
          26.2,
          22.8,
          23.3,
          19.9,
          69.4,
          68.2,
          75.2,
          59.3,
          55.2,
          55.3,
          52.6,
          53,
          43.6,
          40.9,
          24.8,
          36,
          27.6,
          12.9,
          16.7,
          9.7,
          54,
          53,
          48,
          48.4,
          48.5,
          46.1,
          42.3,
          40.4,
          37.5,
          33.3,
          29.2,
          40.6,
          25.8,
          23.5,
          4.9,
          28.5,
          4.6,
          30,
          8.4,
          11.5,
          62.1,
          59.3,
          59.3,
          59.2,
          57.8,
          58.5,
          47.6,
          37.9,
          33.8,
          25.9,
          25.6,
          25,
          18.3,
          32.5,
          28.8,
          15.1,
          15.3,
          15.2,
          12.5,
          17.5,
          12,
          0,
          51.9,
          48.8,
          42.3,
          33.9,
          34.1,
          32.8,
          31.6,
          30.9,
          30.3,
          23.8,
          22.7,
          15.9,
          16.2,
          17.5,
          15.4,
          9.1,
          3,
          7.5,
          0,
          0,
          53.4,
          54,
          53.5,
          53.9,
          41,
          36.2,
          36.8,
          36.6,
          26.4,
          22.9,
          20.7,
          19.9,
          20.5,
          16,
          6,
          0,
          0,
          0,
          0,
          57.3,
          42.9,
          28.7,
          28.5,
          27.5,
          24.3,
          24.3,
          24.1,
          22.5,
          18.7,
          18.4,
          18.2,
          18.5,
          24.4,
          15,
          15.5,
          16.3,
          13.7,
          11.8,
          57.8,
          58.6,
          59.1,
          57.6,
          54.6,
          48.3,
          47,
          47.4,
          44.1,
          33.6,
          30.2,
          21.1,
          20.1,
          8.9,
          9.7,
          62.6,
          57.7,
          56,
          55.5,
          52.9,
          52.4,
          52.5,
          46.1,
          37.6,
          35.1,
          27,
          19,
          24.3,
          24.7,
          17.5,
          20.7,
          20.3,
          14.6,
          20.5,
          71.6,
          67.9,
          61.9,
          52.5,
          50.9,
          51.5,
          50.9,
          46,
          42.3,
          40.3,
          40.3,
          42.9,
          34.3,
          29,
          24.6,
          25.2,
          25.6,
          18.2,
          17.2,
          17,
          10.6,
          65.6,
          55.7,
          59.3,
          55.1,
          51.4,
          40.2,
          40.4,
          39.2,
          36.5,
          33.1,
          32.9,
          30.3,
          24.8,
          65.1,
          64.4,
          64.5,
          60.6,
          59.3,
          49.5,
          47.9,
          42.4,
          42.7,
          38.6,
          32.9,
          33.5,
          33.7,
          34,
          30.9,
          31,
          25,
          17.3,
          19,
          78.7,
          74.8,
          64.6,
          63,
          58.9,
          55,
          44.2,
          32.1,
          32.2,
          31.3,
          26,
          34.5,
          8.1,
          11,
          3.9,
          69.1,
          68.8,
          66.5,
          57.2,
          56.1,
          46.8,
          44.5,
          35.8,
          31.1,
          28.7,
          24.9,
          25.1,
          24,
          10.5,
          6.6,
          4.2,
          3.6,
          0,
          4.7,
          0,
          0,
          58.4,
          57.4,
          48.1,
          40.1,
          30.3,
          21.7,
          21.6,
          17.8,
          11.7,
          10.3,
          10.2,
          7.6,
          0,
          0,
          0,
          0
         ]
        }
       ],
       "layout": {
        "plot_bgcolor": "rgb(220,220,220)",
        "shapes": [
         {
          "fillcolor": "LightSalmon",
          "layer": "below",
          "line": {
           "width": 0
          },
          "opacity": 0.5,
          "type": "rect",
          "x0": 320.2,
          "x1": 357.2,
          "xref": "x",
          "y0": 0,
          "y1": 1,
          "yref": "paper"
         },
         {
          "fillcolor": "LightSalmon",
          "layer": "below",
          "line": {
           "width": 0
          },
          "opacity": 0.5,
          "type": "rect",
          "x0": 420.2,
          "x1": 457.2,
          "xref": "x",
          "y0": 0,
          "y1": 1,
          "yref": "paper"
         },
         {
          "fillcolor": "LightSalmon",
          "layer": "below",
          "line": {
           "width": 0
          },
          "opacity": 0.5,
          "type": "rect",
          "x0": 520.2,
          "x1": 557.2,
          "xref": "x",
          "y0": 0,
          "y1": 1,
          "yref": "paper"
         },
         {
          "fillcolor": "LightSalmon",
          "layer": "below",
          "line": {
           "width": 0
          },
          "opacity": 0.5,
          "type": "rect",
          "x0": 620.2,
          "x1": 657.2,
          "xref": "x",
          "y0": 0,
          "y1": 1,
          "yref": "paper"
         },
         {
          "fillcolor": "LightSalmon",
          "layer": "below",
          "line": {
           "width": 0
          },
          "opacity": 0.5,
          "type": "rect",
          "x0": 720.2,
          "x1": 757.2,
          "xref": "x",
          "y0": 0,
          "y1": 1,
          "yref": "paper"
         },
         {
          "fillcolor": "LightSalmon",
          "layer": "below",
          "line": {
           "width": 0
          },
          "opacity": 0.5,
          "type": "rect",
          "x0": 820.2,
          "x1": 857.2,
          "xref": "x",
          "y0": 0,
          "y1": 1,
          "yref": "paper"
         },
         {
          "fillcolor": "LightSalmon",
          "layer": "below",
          "line": {
           "width": 0
          },
          "opacity": 0.5,
          "type": "rect",
          "x0": 920.2,
          "x1": 957.2,
          "xref": "x",
          "y0": 0,
          "y1": 1,
          "yref": "paper"
         },
         {
          "fillcolor": "LightSalmon",
          "layer": "below",
          "line": {
           "width": 0
          },
          "opacity": 0.5,
          "type": "rect",
          "x0": 1020.2,
          "x1": 1057.2,
          "xref": "x",
          "y0": 0,
          "y1": 1,
          "yref": "paper"
         },
         {
          "fillcolor": "LightSalmon",
          "layer": "below",
          "line": {
           "width": 0
          },
          "opacity": 0.5,
          "type": "rect",
          "x0": 1120.2,
          "x1": 1157.2,
          "xref": "x",
          "y0": 0,
          "y1": 1,
          "yref": "paper"
         },
         {
          "fillcolor": "LightSalmon",
          "layer": "below",
          "line": {
           "width": 0
          },
          "opacity": 0.5,
          "type": "rect",
          "x0": 1220.2,
          "x1": 1257.2,
          "xref": "x",
          "y0": 0,
          "y1": 1,
          "yref": "paper"
         },
         {
          "fillcolor": "LightSalmon",
          "layer": "below",
          "line": {
           "width": 0
          },
          "opacity": 0.5,
          "type": "rect",
          "x0": 1320.2,
          "x1": 1357.2,
          "xref": "x",
          "y0": 0,
          "y1": 1,
          "yref": "paper"
         },
         {
          "fillcolor": "LightSalmon",
          "layer": "below",
          "line": {
           "width": 0
          },
          "opacity": 0.5,
          "type": "rect",
          "x0": 1420.2,
          "x1": 1457.2,
          "xref": "x",
          "y0": 0,
          "y1": 1,
          "yref": "paper"
         },
         {
          "fillcolor": "LightSalmon",
          "layer": "below",
          "line": {
           "width": 0
          },
          "opacity": 0.5,
          "type": "rect",
          "x0": 1520.2,
          "x1": 1557.2,
          "xref": "x",
          "y0": 0,
          "y1": 1,
          "yref": "paper"
         },
         {
          "fillcolor": "LightSalmon",
          "layer": "below",
          "line": {
           "width": 0
          },
          "opacity": 0.5,
          "type": "rect",
          "x0": 1620.2,
          "x1": 1657.2,
          "xref": "x",
          "y0": 0,
          "y1": 1,
          "yref": "paper"
         },
         {
          "fillcolor": "LightSalmon",
          "layer": "below",
          "line": {
           "width": 0
          },
          "opacity": 0.5,
          "type": "rect",
          "x0": 1720.2,
          "x1": 1757.2,
          "xref": "x",
          "y0": 0,
          "y1": 1,
          "yref": "paper"
         },
         {
          "fillcolor": "LightSalmon",
          "layer": "below",
          "line": {
           "width": 0
          },
          "opacity": 0.5,
          "type": "rect",
          "x0": 1820.2,
          "x1": 1857.2,
          "xref": "x",
          "y0": 0,
          "y1": 1,
          "yref": "paper"
         },
         {
          "fillcolor": "LightSalmon",
          "layer": "below",
          "line": {
           "width": 0
          },
          "opacity": 0.5,
          "type": "rect",
          "x0": 1920.2,
          "x1": 1957.2,
          "xref": "x",
          "y0": 0,
          "y1": 1,
          "yref": "paper"
         },
         {
          "fillcolor": "LightSalmon",
          "layer": "below",
          "line": {
           "width": 0
          },
          "opacity": 0.5,
          "type": "rect",
          "x0": 2020.2,
          "x1": 2057.2,
          "xref": "x",
          "y0": 0,
          "y1": 1,
          "yref": "paper"
         }
        ],
        "template": {
         "data": {
          "bar": [
           {
            "error_x": {
             "color": "#2a3f5f"
            },
            "error_y": {
             "color": "#2a3f5f"
            },
            "marker": {
             "line": {
              "color": "#E5ECF6",
              "width": 0.5
             }
            },
            "type": "bar"
           }
          ],
          "barpolar": [
           {
            "marker": {
             "line": {
              "color": "#E5ECF6",
              "width": 0.5
             }
            },
            "type": "barpolar"
           }
          ],
          "carpet": [
           {
            "aaxis": {
             "endlinecolor": "#2a3f5f",
             "gridcolor": "white",
             "linecolor": "white",
             "minorgridcolor": "white",
             "startlinecolor": "#2a3f5f"
            },
            "baxis": {
             "endlinecolor": "#2a3f5f",
             "gridcolor": "white",
             "linecolor": "white",
             "minorgridcolor": "white",
             "startlinecolor": "#2a3f5f"
            },
            "type": "carpet"
           }
          ],
          "choropleth": [
           {
            "colorbar": {
             "outlinewidth": 0,
             "ticks": ""
            },
            "type": "choropleth"
           }
          ],
          "contour": [
           {
            "colorbar": {
             "outlinewidth": 0,
             "ticks": ""
            },
            "colorscale": [
             [
              0,
              "#0d0887"
             ],
             [
              0.1111111111111111,
              "#46039f"
             ],
             [
              0.2222222222222222,
              "#7201a8"
             ],
             [
              0.3333333333333333,
              "#9c179e"
             ],
             [
              0.4444444444444444,
              "#bd3786"
             ],
             [
              0.5555555555555556,
              "#d8576b"
             ],
             [
              0.6666666666666666,
              "#ed7953"
             ],
             [
              0.7777777777777778,
              "#fb9f3a"
             ],
             [
              0.8888888888888888,
              "#fdca26"
             ],
             [
              1,
              "#f0f921"
             ]
            ],
            "type": "contour"
           }
          ],
          "contourcarpet": [
           {
            "colorbar": {
             "outlinewidth": 0,
             "ticks": ""
            },
            "type": "contourcarpet"
           }
          ],
          "heatmap": [
           {
            "colorbar": {
             "outlinewidth": 0,
             "ticks": ""
            },
            "colorscale": [
             [
              0,
              "#0d0887"
             ],
             [
              0.1111111111111111,
              "#46039f"
             ],
             [
              0.2222222222222222,
              "#7201a8"
             ],
             [
              0.3333333333333333,
              "#9c179e"
             ],
             [
              0.4444444444444444,
              "#bd3786"
             ],
             [
              0.5555555555555556,
              "#d8576b"
             ],
             [
              0.6666666666666666,
              "#ed7953"
             ],
             [
              0.7777777777777778,
              "#fb9f3a"
             ],
             [
              0.8888888888888888,
              "#fdca26"
             ],
             [
              1,
              "#f0f921"
             ]
            ],
            "type": "heatmap"
           }
          ],
          "heatmapgl": [
           {
            "colorbar": {
             "outlinewidth": 0,
             "ticks": ""
            },
            "colorscale": [
             [
              0,
              "#0d0887"
             ],
             [
              0.1111111111111111,
              "#46039f"
             ],
             [
              0.2222222222222222,
              "#7201a8"
             ],
             [
              0.3333333333333333,
              "#9c179e"
             ],
             [
              0.4444444444444444,
              "#bd3786"
             ],
             [
              0.5555555555555556,
              "#d8576b"
             ],
             [
              0.6666666666666666,
              "#ed7953"
             ],
             [
              0.7777777777777778,
              "#fb9f3a"
             ],
             [
              0.8888888888888888,
              "#fdca26"
             ],
             [
              1,
              "#f0f921"
             ]
            ],
            "type": "heatmapgl"
           }
          ],
          "histogram": [
           {
            "marker": {
             "colorbar": {
              "outlinewidth": 0,
              "ticks": ""
             }
            },
            "type": "histogram"
           }
          ],
          "histogram2d": [
           {
            "colorbar": {
             "outlinewidth": 0,
             "ticks": ""
            },
            "colorscale": [
             [
              0,
              "#0d0887"
             ],
             [
              0.1111111111111111,
              "#46039f"
             ],
             [
              0.2222222222222222,
              "#7201a8"
             ],
             [
              0.3333333333333333,
              "#9c179e"
             ],
             [
              0.4444444444444444,
              "#bd3786"
             ],
             [
              0.5555555555555556,
              "#d8576b"
             ],
             [
              0.6666666666666666,
              "#ed7953"
             ],
             [
              0.7777777777777778,
              "#fb9f3a"
             ],
             [
              0.8888888888888888,
              "#fdca26"
             ],
             [
              1,
              "#f0f921"
             ]
            ],
            "type": "histogram2d"
           }
          ],
          "histogram2dcontour": [
           {
            "colorbar": {
             "outlinewidth": 0,
             "ticks": ""
            },
            "colorscale": [
             [
              0,
              "#0d0887"
             ],
             [
              0.1111111111111111,
              "#46039f"
             ],
             [
              0.2222222222222222,
              "#7201a8"
             ],
             [
              0.3333333333333333,
              "#9c179e"
             ],
             [
              0.4444444444444444,
              "#bd3786"
             ],
             [
              0.5555555555555556,
              "#d8576b"
             ],
             [
              0.6666666666666666,
              "#ed7953"
             ],
             [
              0.7777777777777778,
              "#fb9f3a"
             ],
             [
              0.8888888888888888,
              "#fdca26"
             ],
             [
              1,
              "#f0f921"
             ]
            ],
            "type": "histogram2dcontour"
           }
          ],
          "mesh3d": [
           {
            "colorbar": {
             "outlinewidth": 0,
             "ticks": ""
            },
            "type": "mesh3d"
           }
          ],
          "parcoords": [
           {
            "line": {
             "colorbar": {
              "outlinewidth": 0,
              "ticks": ""
             }
            },
            "type": "parcoords"
           }
          ],
          "scatter": [
           {
            "marker": {
             "colorbar": {
              "outlinewidth": 0,
              "ticks": ""
             }
            },
            "type": "scatter"
           }
          ],
          "scatter3d": [
           {
            "line": {
             "colorbar": {
              "outlinewidth": 0,
              "ticks": ""
             }
            },
            "marker": {
             "colorbar": {
              "outlinewidth": 0,
              "ticks": ""
             }
            },
            "type": "scatter3d"
           }
          ],
          "scattercarpet": [
           {
            "marker": {
             "colorbar": {
              "outlinewidth": 0,
              "ticks": ""
             }
            },
            "type": "scattercarpet"
           }
          ],
          "scattergeo": [
           {
            "marker": {
             "colorbar": {
              "outlinewidth": 0,
              "ticks": ""
             }
            },
            "type": "scattergeo"
           }
          ],
          "scattergl": [
           {
            "marker": {
             "colorbar": {
              "outlinewidth": 0,
              "ticks": ""
             }
            },
            "type": "scattergl"
           }
          ],
          "scattermapbox": [
           {
            "marker": {
             "colorbar": {
              "outlinewidth": 0,
              "ticks": ""
             }
            },
            "type": "scattermapbox"
           }
          ],
          "scatterpolar": [
           {
            "marker": {
             "colorbar": {
              "outlinewidth": 0,
              "ticks": ""
             }
            },
            "type": "scatterpolar"
           }
          ],
          "scatterpolargl": [
           {
            "marker": {
             "colorbar": {
              "outlinewidth": 0,
              "ticks": ""
             }
            },
            "type": "scatterpolargl"
           }
          ],
          "scatterternary": [
           {
            "marker": {
             "colorbar": {
              "outlinewidth": 0,
              "ticks": ""
             }
            },
            "type": "scatterternary"
           }
          ],
          "surface": [
           {
            "colorbar": {
             "outlinewidth": 0,
             "ticks": ""
            },
            "colorscale": [
             [
              0,
              "#0d0887"
             ],
             [
              0.1111111111111111,
              "#46039f"
             ],
             [
              0.2222222222222222,
              "#7201a8"
             ],
             [
              0.3333333333333333,
              "#9c179e"
             ],
             [
              0.4444444444444444,
              "#bd3786"
             ],
             [
              0.5555555555555556,
              "#d8576b"
             ],
             [
              0.6666666666666666,
              "#ed7953"
             ],
             [
              0.7777777777777778,
              "#fb9f3a"
             ],
             [
              0.8888888888888888,
              "#fdca26"
             ],
             [
              1,
              "#f0f921"
             ]
            ],
            "type": "surface"
           }
          ],
          "table": [
           {
            "cells": {
             "fill": {
              "color": "#EBF0F8"
             },
             "line": {
              "color": "white"
             }
            },
            "header": {
             "fill": {
              "color": "#C8D4E3"
             },
             "line": {
              "color": "white"
             }
            },
            "type": "table"
           }
          ]
         },
         "layout": {
          "annotationdefaults": {
           "arrowcolor": "#2a3f5f",
           "arrowhead": 0,
           "arrowwidth": 1
          },
          "colorscale": {
           "diverging": [
            [
             0,
             "#8e0152"
            ],
            [
             0.1,
             "#c51b7d"
            ],
            [
             0.2,
             "#de77ae"
            ],
            [
             0.3,
             "#f1b6da"
            ],
            [
             0.4,
             "#fde0ef"
            ],
            [
             0.5,
             "#f7f7f7"
            ],
            [
             0.6,
             "#e6f5d0"
            ],
            [
             0.7,
             "#b8e186"
            ],
            [
             0.8,
             "#7fbc41"
            ],
            [
             0.9,
             "#4d9221"
            ],
            [
             1,
             "#276419"
            ]
           ],
           "sequential": [
            [
             0,
             "#0d0887"
            ],
            [
             0.1111111111111111,
             "#46039f"
            ],
            [
             0.2222222222222222,
             "#7201a8"
            ],
            [
             0.3333333333333333,
             "#9c179e"
            ],
            [
             0.4444444444444444,
             "#bd3786"
            ],
            [
             0.5555555555555556,
             "#d8576b"
            ],
            [
             0.6666666666666666,
             "#ed7953"
            ],
            [
             0.7777777777777778,
             "#fb9f3a"
            ],
            [
             0.8888888888888888,
             "#fdca26"
            ],
            [
             1,
             "#f0f921"
            ]
           ],
           "sequentialminus": [
            [
             0,
             "#0d0887"
            ],
            [
             0.1111111111111111,
             "#46039f"
            ],
            [
             0.2222222222222222,
             "#7201a8"
            ],
            [
             0.3333333333333333,
             "#9c179e"
            ],
            [
             0.4444444444444444,
             "#bd3786"
            ],
            [
             0.5555555555555556,
             "#d8576b"
            ],
            [
             0.6666666666666666,
             "#ed7953"
            ],
            [
             0.7777777777777778,
             "#fb9f3a"
            ],
            [
             0.8888888888888888,
             "#fdca26"
            ],
            [
             1,
             "#f0f921"
            ]
           ]
          },
          "colorway": [
           "#636efa",
           "#EF553B",
           "#00cc96",
           "#ab63fa",
           "#FFA15A",
           "#19d3f3",
           "#FF6692",
           "#B6E880",
           "#FF97FF",
           "#FECB52"
          ],
          "font": {
           "color": "#2a3f5f"
          },
          "geo": {
           "bgcolor": "white",
           "lakecolor": "white",
           "landcolor": "#E5ECF6",
           "showlakes": true,
           "showland": true,
           "subunitcolor": "white"
          },
          "hoverlabel": {
           "align": "left"
          },
          "hovermode": "closest",
          "mapbox": {
           "style": "light"
          },
          "paper_bgcolor": "white",
          "plot_bgcolor": "#E5ECF6",
          "polar": {
           "angularaxis": {
            "gridcolor": "white",
            "linecolor": "white",
            "ticks": ""
           },
           "bgcolor": "#E5ECF6",
           "radialaxis": {
            "gridcolor": "white",
            "linecolor": "white",
            "ticks": ""
           }
          },
          "scene": {
           "xaxis": {
            "backgroundcolor": "#E5ECF6",
            "gridcolor": "white",
            "gridwidth": 2,
            "linecolor": "white",
            "showbackground": true,
            "ticks": "",
            "zerolinecolor": "white"
           },
           "yaxis": {
            "backgroundcolor": "#E5ECF6",
            "gridcolor": "white",
            "gridwidth": 2,
            "linecolor": "white",
            "showbackground": true,
            "ticks": "",
            "zerolinecolor": "white"
           },
           "zaxis": {
            "backgroundcolor": "#E5ECF6",
            "gridcolor": "white",
            "gridwidth": 2,
            "linecolor": "white",
            "showbackground": true,
            "ticks": "",
            "zerolinecolor": "white"
           }
          },
          "shapedefaults": {
           "line": {
            "color": "#2a3f5f"
           }
          },
          "ternary": {
           "aaxis": {
            "gridcolor": "white",
            "linecolor": "white",
            "ticks": ""
           },
           "baxis": {
            "gridcolor": "white",
            "linecolor": "white",
            "ticks": ""
           },
           "bgcolor": "#E5ECF6",
           "caxis": {
            "gridcolor": "white",
            "linecolor": "white",
            "ticks": ""
           }
          },
          "title": {
           "x": 0.05
          },
          "xaxis": {
           "automargin": true,
           "gridcolor": "white",
           "linecolor": "white",
           "ticks": "",
           "zerolinecolor": "white",
           "zerolinewidth": 2
          },
          "yaxis": {
           "automargin": true,
           "gridcolor": "white",
           "linecolor": "white",
           "ticks": "",
           "zerolinecolor": "white",
           "zerolinewidth": 2
          }
         }
        }
       }
      },
      "text/html": [
       "<div>\n",
       "        \n",
       "        \n",
       "            <div id=\"409bf8ec-cbd8-484c-be1c-3317e1d8a010\" class=\"plotly-graph-div\" style=\"height:525px; width:100%;\"></div>\n",
       "            <script type=\"text/javascript\">\n",
       "                require([\"plotly\"], function(Plotly) {\n",
       "                    window.PLOTLYENV=window.PLOTLYENV || {};\n",
       "                    \n",
       "                if (document.getElementById(\"409bf8ec-cbd8-484c-be1c-3317e1d8a010\")) {\n",
       "                    Plotly.newPlot(\n",
       "                        '409bf8ec-cbd8-484c-be1c-3317e1d8a010',\n",
       "                        [{\"mode\": \"markers\", \"name\": \"markers\", \"type\": \"scatter\", \"x\": [324.12, 326.19, 328.37, 330.32, 332.0, 334.83, 337.2, 339.35, 340.9, 342.19, 344.94, 347.65, 349.98, 351.87, 357.1, 361.67, 424.11, 426.52, 430.04, 432.05, 434.17, 435.81, 437.64, 440.35, 442.79, 445.95, 448.05, 450.66, 452.28, 457.83, 524.02, 526.41, 529.46, 531.73, 534.47, 537.01, 539.7, 542.93, 545.42, 547.55, 549.9, 551.9, 553.87, 558.04, 624.05, 626.33, 627.91, 630.29, 631.8, 633.66, 635.48, 638.4, 641.38, 643.65, 645.65, 647.75, 649.4, 652.87, 654.66, 657.05, 658.97, 724.67, 727.88, 730.84, 733.5, 735.91, 737.82, 739.57, 742.77, 751.42, 754.62, 757.22, 758.92, 824.35, 827.26, 829.1, 831.22, 833.19, 834.76, 836.46, 838.79, 840.88, 845.04, 847.77, 849.59, 852.65, 854.69, 857.27, 859.16, 924.1, 926.96, 928.87, 930.73, 932.3, 933.86, 936.17, 937.31, 940.61, 942.57, 944.44, 946.35, 951.33, 952.95, 956.08, 1024.19, 1026.5, 1028.81, 1030.62, 1032.66, 1035.92, 1037.54, 1040.47, 1042.34, 1044.61, 1046.49, 1051.39, 1053.94, 1056.87, 1059.25, 1124.44, 1126.24, 1128.64, 1130.68, 1133.21, 1135.78, 1138.34, 1140.11, 1141.67, 1143.19, 1144.92, 1146.18, 1150.04, 1151.71, 1224.15, 1226.16, 1228.13, 1230.1, 1233.08, 1235.94, 1238.1, 1240.61, 1243.07, 1245.17, 1246.7, 1248.4, 1250.66, 1256.12, 1257.59, 1324.34, 1326.96, 1329.79, 1332.61, 1335.63, 1338.5, 1340.64, 1343.08, 1345.39, 1347.54, 1349.16, 1350.32, 1353.89, 1355.88, 1357.76, 1360.99, 1424.19, 1426.34, 1429.09, 1431.63, 1433.81, 1435.47, 1437.93, 1439.93, 1442.1, 1444.0, 1445.82, 1449.67, 1454.33, 1456.19, 1524.29, 1526.43, 1529.42, 1531.95, 1533.65, 1535.29, 1536.66, 1537.91, 1539.1, 1542.48, 1545.1, 1549.89, 1552.25, 1555.09, 1557.08, 1624.39, 1626.53, 1628.16, 1629.7, 1631.82, 1634.16, 1636.31, 1639.66, 1641.93, 1644.47, 1647.04, 1649.88, 1651.65, 1653.84, 1655.6, 1657.17, 1659.56, 1724.35, 1726.91, 1729.77, 1731.83, 1734.35, 1736.17, 1738.47, 1740.9, 1743.14, 1744.88, 1746.53, 1748.28, 1749.99, 1751.43, 1754.84, 1758.27, 1824.25, 1826.38, 1827.9, 1830.04, 1831.67, 1833.66, 1835.43, 1838.24, 1840.42, 1843.97, 1847.79, 1850.25, 1852.11, 1853.86, 1856.85, 1858.68, 1923.99, 1926.16, 1927.87, 1930.37, 1931.94, 1933.87, 1937.47, 1939.62, 1941.54, 1943.43, 1946.24, 1949.81, 1952.47, 1955.46, 1958.06, 2024.48, 2027.25, 2029.95, 2032.6, 2035.4, 2037.39, 2039.46, 2041.16, 2043.05, 2045.82, 2048.07, 2050.24, 2052.36, 2055.79], \"y\": [66.9, 54.7, 54.5, 52.7, 51.4, 47.4, 47.3, 47.8, 16.9, 8.5, 4.2, 3.9, 2.8, 3.0, 3.5, 1.5, 3.2, 3.4, 0.0, 56.4, 55.6, 44.5, 41.2, 29.2, 28.1, 25.7, 21.3, 17.0, 15.5, 17.3, 16.1, 17.4, 16.9, 18.1, 11.0, 10.7, 9.0, 0.0, 55.9, 50.8, 40.0, 39.6, 35.7, 33.3, 32.0, 29.6, 28.8, 28.9, 28.2, 28.6, 28.2, 28.3, 28.3, 34.2, 30.5, 31.2, 23.7, 80.5, 78.2, 75.4, 66.8, 56.0, 55.0, 50.3, 50.7, 49.7, 49.8, 49.7, 50.1, 46.3, 43.8, 37.5, 27.2, 25.5, 26.2, 22.8, 23.3, 19.9, 69.4, 68.2, 75.2, 59.3, 55.2, 55.3, 52.6, 53.0, 43.6, 40.9, 24.8, 36.0, 27.6, 12.9, 16.7, 9.7, 54.0, 53.0, 48.0, 48.4, 48.5, 46.1, 42.3, 40.4, 37.5, 33.3, 29.2, 40.6, 25.8, 23.5, 4.9, 28.5, 4.6, 30.0, 8.4, 11.5, 62.1, 59.3, 59.3, 59.2, 57.8, 58.5, 47.6, 37.9, 33.8, 25.9, 25.6, 25.0, 18.3, 32.5, 28.8, 15.1, 15.3, 15.2, 12.5, 17.5, 12.0, 0.0, 51.9, 48.8, 42.3, 33.9, 34.1, 32.8, 31.6, 30.9, 30.3, 23.8, 22.7, 15.9, 16.2, 17.5, 15.4, 9.1, 3.0, 7.5, 0.0, 0.0, 53.4, 54.0, 53.5, 53.9, 41.0, 36.2, 36.8, 36.6, 26.4, 22.9, 20.7, 19.9, 20.5, 16.0, 6.0, 0.0, 0.0, 0.0, 0.0, 57.3, 42.9, 28.7, 28.5, 27.5, 24.3, 24.3, 24.1, 22.5, 18.7, 18.4, 18.2, 18.5, 24.4, 15.0, 15.5, 16.3, 13.7, 11.8, 57.8, 58.6, 59.1, 57.6, 54.6, 48.3, 47.0, 47.4, 44.1, 33.6, 30.2, 21.1, 20.1, 8.9, 9.7, 62.6, 57.7, 56.0, 55.5, 52.9, 52.4, 52.5, 46.1, 37.6, 35.1, 27.0, 19.0, 24.3, 24.7, 17.5, 20.7, 20.3, 14.6, 20.5, 71.6, 67.9, 61.9, 52.5, 50.9, 51.5, 50.9, 46.0, 42.3, 40.3, 40.3, 42.9, 34.3, 29.0, 24.6, 25.2, 25.6, 18.2, 17.2, 17.0, 10.6, 65.6, 55.7, 59.3, 55.1, 51.4, 40.2, 40.4, 39.2, 36.5, 33.1, 32.9, 30.3, 24.8, 65.1, 64.4, 64.5, 60.6, 59.3, 49.5, 47.9, 42.4, 42.7, 38.6, 32.9, 33.5, 33.7, 34.0, 30.9, 31.0, 25.0, 17.3, 19.0, 78.7, 74.8, 64.6, 63.0, 58.9, 55.0, 44.2, 32.1, 32.2, 31.3, 26.0, 34.5, 8.1, 11.0, 3.9, 69.1, 68.8, 66.5, 57.2, 56.1, 46.8, 44.5, 35.8, 31.1, 28.7, 24.9, 25.1, 24.0, 10.5, 6.6, 4.2, 3.6, 0.0, 4.7, 0.0, 0.0, 58.4, 57.4, 48.1, 40.1, 30.3, 21.7, 21.6, 17.8, 11.7, 10.3, 10.2, 7.6, 0.0, 0.0, 0.0, 0.0]}],\n",
       "                        {\"plot_bgcolor\": \"rgb(220,220,220)\", \"shapes\": [{\"fillcolor\": \"LightSalmon\", \"layer\": \"below\", \"line\": {\"width\": 0}, \"opacity\": 0.5, \"type\": \"rect\", \"x0\": 320.2, \"x1\": 357.2, \"xref\": \"x\", \"y0\": 0, \"y1\": 1, \"yref\": \"paper\"}, {\"fillcolor\": \"LightSalmon\", \"layer\": \"below\", \"line\": {\"width\": 0}, \"opacity\": 0.5, \"type\": \"rect\", \"x0\": 420.2, \"x1\": 457.2, \"xref\": \"x\", \"y0\": 0, \"y1\": 1, \"yref\": \"paper\"}, {\"fillcolor\": \"LightSalmon\", \"layer\": \"below\", \"line\": {\"width\": 0}, \"opacity\": 0.5, \"type\": \"rect\", \"x0\": 520.2, \"x1\": 557.2, \"xref\": \"x\", \"y0\": 0, \"y1\": 1, \"yref\": \"paper\"}, {\"fillcolor\": \"LightSalmon\", \"layer\": \"below\", \"line\": {\"width\": 0}, \"opacity\": 0.5, \"type\": \"rect\", \"x0\": 620.2, \"x1\": 657.2, \"xref\": \"x\", \"y0\": 0, \"y1\": 1, \"yref\": \"paper\"}, {\"fillcolor\": \"LightSalmon\", \"layer\": \"below\", \"line\": {\"width\": 0}, \"opacity\": 0.5, \"type\": \"rect\", \"x0\": 720.2, \"x1\": 757.2, \"xref\": \"x\", \"y0\": 0, \"y1\": 1, \"yref\": \"paper\"}, {\"fillcolor\": \"LightSalmon\", \"layer\": \"below\", \"line\": {\"width\": 0}, \"opacity\": 0.5, \"type\": \"rect\", \"x0\": 820.2, \"x1\": 857.2, \"xref\": \"x\", \"y0\": 0, \"y1\": 1, \"yref\": \"paper\"}, {\"fillcolor\": \"LightSalmon\", \"layer\": \"below\", \"line\": {\"width\": 0}, \"opacity\": 0.5, \"type\": \"rect\", \"x0\": 920.2, \"x1\": 957.2, \"xref\": \"x\", \"y0\": 0, \"y1\": 1, \"yref\": \"paper\"}, {\"fillcolor\": \"LightSalmon\", \"layer\": \"below\", \"line\": {\"width\": 0}, \"opacity\": 0.5, \"type\": \"rect\", \"x0\": 1020.2, \"x1\": 1057.2, \"xref\": \"x\", \"y0\": 0, \"y1\": 1, \"yref\": \"paper\"}, {\"fillcolor\": \"LightSalmon\", \"layer\": \"below\", \"line\": {\"width\": 0}, \"opacity\": 0.5, \"type\": \"rect\", \"x0\": 1120.2, \"x1\": 1157.2, \"xref\": \"x\", \"y0\": 0, \"y1\": 1, \"yref\": \"paper\"}, {\"fillcolor\": \"LightSalmon\", \"layer\": \"below\", \"line\": {\"width\": 0}, \"opacity\": 0.5, \"type\": \"rect\", \"x0\": 1220.2, \"x1\": 1257.2, \"xref\": \"x\", \"y0\": 0, \"y1\": 1, \"yref\": \"paper\"}, {\"fillcolor\": \"LightSalmon\", \"layer\": \"below\", \"line\": {\"width\": 0}, \"opacity\": 0.5, \"type\": \"rect\", \"x0\": 1320.2, \"x1\": 1357.2, \"xref\": \"x\", \"y0\": 0, \"y1\": 1, \"yref\": \"paper\"}, {\"fillcolor\": \"LightSalmon\", \"layer\": \"below\", \"line\": {\"width\": 0}, \"opacity\": 0.5, \"type\": \"rect\", \"x0\": 1420.2, \"x1\": 1457.2, \"xref\": \"x\", \"y0\": 0, \"y1\": 1, \"yref\": \"paper\"}, {\"fillcolor\": \"LightSalmon\", \"layer\": \"below\", \"line\": {\"width\": 0}, \"opacity\": 0.5, \"type\": \"rect\", \"x0\": 1520.2, \"x1\": 1557.2, \"xref\": \"x\", \"y0\": 0, \"y1\": 1, \"yref\": \"paper\"}, {\"fillcolor\": \"LightSalmon\", \"layer\": \"below\", \"line\": {\"width\": 0}, \"opacity\": 0.5, \"type\": \"rect\", \"x0\": 1620.2, \"x1\": 1657.2, \"xref\": \"x\", \"y0\": 0, \"y1\": 1, \"yref\": \"paper\"}, {\"fillcolor\": \"LightSalmon\", \"layer\": \"below\", \"line\": {\"width\": 0}, \"opacity\": 0.5, \"type\": \"rect\", \"x0\": 1720.2, \"x1\": 1757.2, \"xref\": \"x\", \"y0\": 0, \"y1\": 1, \"yref\": \"paper\"}, {\"fillcolor\": \"LightSalmon\", \"layer\": \"below\", \"line\": {\"width\": 0}, \"opacity\": 0.5, \"type\": \"rect\", \"x0\": 1820.2, \"x1\": 1857.2, \"xref\": \"x\", \"y0\": 0, \"y1\": 1, \"yref\": \"paper\"}, {\"fillcolor\": \"LightSalmon\", \"layer\": \"below\", \"line\": {\"width\": 0}, \"opacity\": 0.5, \"type\": \"rect\", \"x0\": 1920.2, \"x1\": 1957.2, \"xref\": \"x\", \"y0\": 0, \"y1\": 1, \"yref\": \"paper\"}, {\"fillcolor\": \"LightSalmon\", \"layer\": \"below\", \"line\": {\"width\": 0}, \"opacity\": 0.5, \"type\": \"rect\", \"x0\": 2020.2, \"x1\": 2057.2, \"xref\": \"x\", \"y0\": 0, \"y1\": 1, \"yref\": \"paper\"}], \"template\": {\"data\": {\"bar\": [{\"error_x\": {\"color\": \"#2a3f5f\"}, \"error_y\": {\"color\": \"#2a3f5f\"}, \"marker\": {\"line\": {\"color\": \"#E5ECF6\", \"width\": 0.5}}, \"type\": \"bar\"}], \"barpolar\": [{\"marker\": {\"line\": {\"color\": \"#E5ECF6\", \"width\": 0.5}}, \"type\": \"barpolar\"}], \"carpet\": [{\"aaxis\": {\"endlinecolor\": \"#2a3f5f\", \"gridcolor\": \"white\", \"linecolor\": \"white\", \"minorgridcolor\": \"white\", \"startlinecolor\": \"#2a3f5f\"}, \"baxis\": {\"endlinecolor\": \"#2a3f5f\", \"gridcolor\": \"white\", \"linecolor\": \"white\", \"minorgridcolor\": \"white\", \"startlinecolor\": \"#2a3f5f\"}, \"type\": \"carpet\"}], \"choropleth\": [{\"colorbar\": {\"outlinewidth\": 0, \"ticks\": \"\"}, \"type\": \"choropleth\"}], \"contour\": [{\"colorbar\": {\"outlinewidth\": 0, \"ticks\": \"\"}, \"colorscale\": [[0.0, \"#0d0887\"], [0.1111111111111111, \"#46039f\"], [0.2222222222222222, \"#7201a8\"], [0.3333333333333333, \"#9c179e\"], [0.4444444444444444, \"#bd3786\"], [0.5555555555555556, \"#d8576b\"], [0.6666666666666666, \"#ed7953\"], [0.7777777777777778, \"#fb9f3a\"], [0.8888888888888888, \"#fdca26\"], [1.0, \"#f0f921\"]], \"type\": \"contour\"}], \"contourcarpet\": [{\"colorbar\": {\"outlinewidth\": 0, \"ticks\": \"\"}, \"type\": \"contourcarpet\"}], \"heatmap\": [{\"colorbar\": {\"outlinewidth\": 0, \"ticks\": \"\"}, \"colorscale\": [[0.0, \"#0d0887\"], [0.1111111111111111, \"#46039f\"], [0.2222222222222222, \"#7201a8\"], [0.3333333333333333, \"#9c179e\"], [0.4444444444444444, \"#bd3786\"], [0.5555555555555556, \"#d8576b\"], [0.6666666666666666, \"#ed7953\"], [0.7777777777777778, \"#fb9f3a\"], [0.8888888888888888, \"#fdca26\"], [1.0, \"#f0f921\"]], \"type\": \"heatmap\"}], \"heatmapgl\": [{\"colorbar\": {\"outlinewidth\": 0, \"ticks\": \"\"}, \"colorscale\": [[0.0, \"#0d0887\"], [0.1111111111111111, \"#46039f\"], [0.2222222222222222, \"#7201a8\"], [0.3333333333333333, \"#9c179e\"], [0.4444444444444444, \"#bd3786\"], [0.5555555555555556, \"#d8576b\"], [0.6666666666666666, \"#ed7953\"], [0.7777777777777778, \"#fb9f3a\"], [0.8888888888888888, \"#fdca26\"], [1.0, \"#f0f921\"]], \"type\": \"heatmapgl\"}], \"histogram\": [{\"marker\": {\"colorbar\": {\"outlinewidth\": 0, \"ticks\": \"\"}}, \"type\": \"histogram\"}], \"histogram2d\": [{\"colorbar\": {\"outlinewidth\": 0, \"ticks\": \"\"}, \"colorscale\": [[0.0, \"#0d0887\"], [0.1111111111111111, \"#46039f\"], [0.2222222222222222, \"#7201a8\"], [0.3333333333333333, \"#9c179e\"], [0.4444444444444444, \"#bd3786\"], [0.5555555555555556, \"#d8576b\"], [0.6666666666666666, \"#ed7953\"], [0.7777777777777778, \"#fb9f3a\"], [0.8888888888888888, \"#fdca26\"], [1.0, \"#f0f921\"]], \"type\": \"histogram2d\"}], \"histogram2dcontour\": [{\"colorbar\": {\"outlinewidth\": 0, \"ticks\": \"\"}, \"colorscale\": [[0.0, \"#0d0887\"], [0.1111111111111111, \"#46039f\"], [0.2222222222222222, \"#7201a8\"], [0.3333333333333333, \"#9c179e\"], [0.4444444444444444, \"#bd3786\"], [0.5555555555555556, \"#d8576b\"], [0.6666666666666666, \"#ed7953\"], [0.7777777777777778, \"#fb9f3a\"], [0.8888888888888888, \"#fdca26\"], [1.0, \"#f0f921\"]], \"type\": \"histogram2dcontour\"}], \"mesh3d\": [{\"colorbar\": {\"outlinewidth\": 0, \"ticks\": \"\"}, \"type\": \"mesh3d\"}], \"parcoords\": [{\"line\": {\"colorbar\": {\"outlinewidth\": 0, \"ticks\": \"\"}}, \"type\": \"parcoords\"}], \"scatter\": [{\"marker\": {\"colorbar\": {\"outlinewidth\": 0, \"ticks\": \"\"}}, \"type\": \"scatter\"}], \"scatter3d\": [{\"line\": {\"colorbar\": {\"outlinewidth\": 0, \"ticks\": \"\"}}, \"marker\": {\"colorbar\": {\"outlinewidth\": 0, \"ticks\": \"\"}}, \"type\": \"scatter3d\"}], \"scattercarpet\": [{\"marker\": {\"colorbar\": {\"outlinewidth\": 0, \"ticks\": \"\"}}, \"type\": \"scattercarpet\"}], \"scattergeo\": [{\"marker\": {\"colorbar\": {\"outlinewidth\": 0, \"ticks\": \"\"}}, \"type\": \"scattergeo\"}], \"scattergl\": [{\"marker\": {\"colorbar\": {\"outlinewidth\": 0, \"ticks\": \"\"}}, \"type\": \"scattergl\"}], \"scattermapbox\": [{\"marker\": {\"colorbar\": {\"outlinewidth\": 0, \"ticks\": \"\"}}, \"type\": \"scattermapbox\"}], \"scatterpolar\": [{\"marker\": {\"colorbar\": {\"outlinewidth\": 0, \"ticks\": \"\"}}, \"type\": \"scatterpolar\"}], \"scatterpolargl\": [{\"marker\": {\"colorbar\": {\"outlinewidth\": 0, \"ticks\": \"\"}}, \"type\": \"scatterpolargl\"}], \"scatterternary\": [{\"marker\": {\"colorbar\": {\"outlinewidth\": 0, \"ticks\": \"\"}}, \"type\": \"scatterternary\"}], \"surface\": [{\"colorbar\": {\"outlinewidth\": 0, \"ticks\": \"\"}, \"colorscale\": [[0.0, \"#0d0887\"], [0.1111111111111111, \"#46039f\"], [0.2222222222222222, \"#7201a8\"], [0.3333333333333333, \"#9c179e\"], [0.4444444444444444, \"#bd3786\"], [0.5555555555555556, \"#d8576b\"], [0.6666666666666666, \"#ed7953\"], [0.7777777777777778, \"#fb9f3a\"], [0.8888888888888888, \"#fdca26\"], [1.0, \"#f0f921\"]], \"type\": \"surface\"}], \"table\": [{\"cells\": {\"fill\": {\"color\": \"#EBF0F8\"}, \"line\": {\"color\": \"white\"}}, \"header\": {\"fill\": {\"color\": \"#C8D4E3\"}, \"line\": {\"color\": \"white\"}}, \"type\": \"table\"}]}, \"layout\": {\"annotationdefaults\": {\"arrowcolor\": \"#2a3f5f\", \"arrowhead\": 0, \"arrowwidth\": 1}, \"colorscale\": {\"diverging\": [[0, \"#8e0152\"], [0.1, \"#c51b7d\"], [0.2, \"#de77ae\"], [0.3, \"#f1b6da\"], [0.4, \"#fde0ef\"], [0.5, \"#f7f7f7\"], [0.6, \"#e6f5d0\"], [0.7, \"#b8e186\"], [0.8, \"#7fbc41\"], [0.9, \"#4d9221\"], [1, \"#276419\"]], \"sequential\": [[0.0, \"#0d0887\"], [0.1111111111111111, \"#46039f\"], [0.2222222222222222, \"#7201a8\"], [0.3333333333333333, \"#9c179e\"], [0.4444444444444444, \"#bd3786\"], [0.5555555555555556, \"#d8576b\"], [0.6666666666666666, \"#ed7953\"], [0.7777777777777778, \"#fb9f3a\"], [0.8888888888888888, \"#fdca26\"], [1.0, \"#f0f921\"]], \"sequentialminus\": [[0.0, \"#0d0887\"], [0.1111111111111111, \"#46039f\"], [0.2222222222222222, \"#7201a8\"], [0.3333333333333333, \"#9c179e\"], [0.4444444444444444, \"#bd3786\"], [0.5555555555555556, \"#d8576b\"], [0.6666666666666666, \"#ed7953\"], [0.7777777777777778, \"#fb9f3a\"], [0.8888888888888888, \"#fdca26\"], [1.0, \"#f0f921\"]]}, \"colorway\": [\"#636efa\", \"#EF553B\", \"#00cc96\", \"#ab63fa\", \"#FFA15A\", \"#19d3f3\", \"#FF6692\", \"#B6E880\", \"#FF97FF\", \"#FECB52\"], \"font\": {\"color\": \"#2a3f5f\"}, \"geo\": {\"bgcolor\": \"white\", \"lakecolor\": \"white\", \"landcolor\": \"#E5ECF6\", \"showlakes\": true, \"showland\": true, \"subunitcolor\": \"white\"}, \"hoverlabel\": {\"align\": \"left\"}, \"hovermode\": \"closest\", \"mapbox\": {\"style\": \"light\"}, \"paper_bgcolor\": \"white\", \"plot_bgcolor\": \"#E5ECF6\", \"polar\": {\"angularaxis\": {\"gridcolor\": \"white\", \"linecolor\": \"white\", \"ticks\": \"\"}, \"bgcolor\": \"#E5ECF6\", \"radialaxis\": {\"gridcolor\": \"white\", \"linecolor\": \"white\", \"ticks\": \"\"}}, \"scene\": {\"xaxis\": {\"backgroundcolor\": \"#E5ECF6\", \"gridcolor\": \"white\", \"gridwidth\": 2, \"linecolor\": \"white\", \"showbackground\": true, \"ticks\": \"\", \"zerolinecolor\": \"white\"}, \"yaxis\": {\"backgroundcolor\": \"#E5ECF6\", \"gridcolor\": \"white\", \"gridwidth\": 2, \"linecolor\": \"white\", \"showbackground\": true, \"ticks\": \"\", \"zerolinecolor\": \"white\"}, \"zaxis\": {\"backgroundcolor\": \"#E5ECF6\", \"gridcolor\": \"white\", \"gridwidth\": 2, \"linecolor\": \"white\", \"showbackground\": true, \"ticks\": \"\", \"zerolinecolor\": \"white\"}}, \"shapedefaults\": {\"line\": {\"color\": \"#2a3f5f\"}}, \"ternary\": {\"aaxis\": {\"gridcolor\": \"white\", \"linecolor\": \"white\", \"ticks\": \"\"}, \"baxis\": {\"gridcolor\": \"white\", \"linecolor\": \"white\", \"ticks\": \"\"}, \"bgcolor\": \"#E5ECF6\", \"caxis\": {\"gridcolor\": \"white\", \"linecolor\": \"white\", \"ticks\": \"\"}}, \"title\": {\"x\": 0.05}, \"xaxis\": {\"automargin\": true, \"gridcolor\": \"white\", \"linecolor\": \"white\", \"ticks\": \"\", \"zerolinecolor\": \"white\", \"zerolinewidth\": 2}, \"yaxis\": {\"automargin\": true, \"gridcolor\": \"white\", \"linecolor\": \"white\", \"ticks\": \"\", \"zerolinecolor\": \"white\", \"zerolinewidth\": 2}}}},\n",
       "                        {\"responsive\": true}\n",
       "                    ).then(function(){\n",
       "                            \n",
       "var gd = document.getElementById('409bf8ec-cbd8-484c-be1c-3317e1d8a010');\n",
       "var x = new MutationObserver(function (mutations, observer) {{\n",
       "        var display = window.getComputedStyle(gd).display;\n",
       "        if (!display || display === 'none') {{\n",
       "            console.log([gd, 'removed!']);\n",
       "            Plotly.purge(gd);\n",
       "            observer.disconnect();\n",
       "        }}\n",
       "}});\n",
       "\n",
       "// Listen for the removal of the full notebook cells\n",
       "var notebookContainer = gd.closest('#notebook-container');\n",
       "if (notebookContainer) {{\n",
       "    x.observe(notebookContainer, {childList: true});\n",
       "}}\n",
       "\n",
       "// Listen for the clearing of the current output cell\n",
       "var outputEl = gd.closest('.output');\n",
       "if (outputEl) {{\n",
       "    x.observe(outputEl, {childList: true});\n",
       "}}\n",
       "\n",
       "                        })\n",
       "                };\n",
       "                });\n",
       "            </script>\n",
       "        </div>"
      ]
     },
     "metadata": {},
     "output_type": "display_data"
    }
   ],
   "source": [
    "fig = go.Figure()\n",
    "fig.add_trace(go.Scatter(x=VisualData.loc[VisualData.Lane==1,'t_Entry'], y= VisualData.loc[VisualData.Lane==2,'tQueue'],\n",
    "                    mode='markers', name='markers'))\n",
    "fig.update_layout(plot_bgcolor = 'rgb(220,220,220)', shapes= list_shade)\n",
    "fig.show()"
   ]
  },
  {
   "cell_type": "code",
   "execution_count": 68,
   "metadata": {},
   "outputs": [
    {
     "data": {
      "application/vnd.plotly.v1+json": {
       "config": {
        "plotlyServerURL": "https://plot.ly"
       },
       "data": [
        {
         "mode": "markers",
         "name": "markers",
         "type": "scatter",
         "x": [
          324.12,
          326.19,
          328.37,
          330.32,
          332,
          334.83,
          337.2,
          339.35,
          340.9,
          342.19,
          344.94,
          347.65,
          349.98,
          351.87,
          357.1,
          361.67,
          424.11,
          426.52,
          430.04,
          432.05,
          434.17,
          435.81,
          437.64,
          440.35,
          442.79,
          445.95,
          448.05,
          450.66,
          452.28,
          457.83,
          524.02,
          526.41,
          529.46,
          531.73,
          534.47,
          537.01,
          539.7,
          542.93,
          545.42,
          547.55,
          549.9,
          551.9,
          553.87,
          558.04,
          624.05,
          626.33,
          627.91,
          630.29,
          631.8,
          633.66,
          635.48,
          638.4,
          641.38,
          643.65,
          645.65,
          647.75,
          649.4,
          652.87,
          654.66,
          657.05,
          658.97,
          724.67,
          727.88,
          730.84,
          733.5,
          735.91,
          737.82,
          739.57,
          742.77,
          751.42,
          754.62,
          757.22,
          758.92,
          824.35,
          827.26,
          829.1,
          831.22,
          833.19,
          834.76,
          836.46,
          838.79,
          840.88,
          845.04,
          847.77,
          849.59,
          852.65,
          854.69,
          857.27,
          859.16,
          924.1,
          926.96,
          928.87,
          930.73,
          932.3,
          933.86,
          936.17,
          937.31,
          940.61,
          942.57,
          944.44,
          946.35,
          951.33,
          952.95,
          956.08,
          1024.19,
          1026.5,
          1028.81,
          1030.62,
          1032.66,
          1035.92,
          1037.54,
          1040.47,
          1042.34,
          1044.61,
          1046.49,
          1051.39,
          1053.94,
          1056.87,
          1059.25,
          1124.44,
          1126.24,
          1128.64,
          1130.68,
          1133.21,
          1135.78,
          1138.34,
          1140.11,
          1141.67,
          1143.19,
          1144.92,
          1146.18,
          1150.04,
          1151.71,
          1224.15,
          1226.16,
          1228.13,
          1230.1,
          1233.08,
          1235.94,
          1238.1,
          1240.61,
          1243.07,
          1245.17,
          1246.7,
          1248.4,
          1250.66,
          1256.12,
          1257.59,
          1324.34,
          1326.96,
          1329.79,
          1332.61,
          1335.63,
          1338.5,
          1340.64,
          1343.08,
          1345.39,
          1347.54,
          1349.16,
          1350.32,
          1353.89,
          1355.88,
          1357.76,
          1360.99,
          1424.19,
          1426.34,
          1429.09,
          1431.63,
          1433.81,
          1435.47,
          1437.93,
          1439.93,
          1442.1,
          1444,
          1445.82,
          1449.67,
          1454.33,
          1456.19,
          1524.29,
          1526.43,
          1529.42,
          1531.95,
          1533.65,
          1535.29,
          1536.66,
          1537.91,
          1539.1,
          1542.48,
          1545.1,
          1549.89,
          1552.25,
          1555.09,
          1557.08,
          1624.39,
          1626.53,
          1628.16,
          1629.7,
          1631.82,
          1634.16,
          1636.31,
          1639.66,
          1641.93,
          1644.47,
          1647.04,
          1649.88,
          1651.65,
          1653.84,
          1655.6,
          1657.17,
          1659.56,
          1724.35,
          1726.91,
          1729.77,
          1731.83,
          1734.35,
          1736.17,
          1738.47,
          1740.9,
          1743.14,
          1744.88,
          1746.53,
          1748.28,
          1749.99,
          1751.43,
          1754.84,
          1758.27,
          1824.25,
          1826.38,
          1827.9,
          1830.04,
          1831.67,
          1833.66,
          1835.43,
          1838.24,
          1840.42,
          1843.97,
          1847.79,
          1850.25,
          1852.11,
          1853.86,
          1856.85,
          1858.68,
          1923.99,
          1926.16,
          1927.87,
          1930.37,
          1931.94,
          1933.87,
          1937.47,
          1939.62,
          1941.54,
          1943.43,
          1946.24,
          1949.81,
          1952.47,
          1955.46,
          1958.06,
          2024.48,
          2027.25,
          2029.95,
          2032.6,
          2035.4,
          2037.39,
          2039.46,
          2041.16,
          2043.05,
          2045.82,
          2048.07,
          2050.24,
          2052.36,
          2055.79
         ],
         "y": [
          2.9600000000000364,
          1.7199999999999704,
          2.0500000000000114,
          1.8500000000000227,
          1.6800000000000068,
          2.3100000000000023,
          1.6499999999999773,
          1.1000000000000227,
          1.8799999999999955,
          2.079999999999984,
          1.1200000000000045,
          2.079999999999984,
          2.230000000000018,
          1.0600000000000023,
          1.7199999999999704,
          2.090000000000032,
          1.8799999999999955,
          1.1399999999999864,
          3.069999999999993,
          2.8500000000000227,
          2.319999999999993,
          1.829999999999984,
          1.4499999999999886,
          2.670000000000016,
          1.3400000000000318,
          2.0399999999999636,
          1.920000000000016,
          1.5500000000000114,
          2.609999999999957,
          1.3500000000000227,
          1.5,
          2.1399999999999864,
          2.1299999999999955,
          2.660000000000025,
          1.1100000000000136,
          1.7299999999999613,
          2.5200000000000387,
          2.5399999999999636,
          2.6299999999999955,
          2.410000000000082,
          2.1100000000000136,
          1.2099999999999227,
          2.32000000000005,
          1.2799999999999727,
          1.17999999999995,
          2.1800000000000637,
          1.2999999999999545,
          1.9600000000000364,
          1.419999999999959,
          2.090000000000032,
          1.669999999999959,
          1.6900000000000546,
          1.32000000000005,
          2.7899999999999636,
          1.3700000000000045,
          1.3999999999999773,
          3.169999999999959,
          2.699999999999932,
          1.9700000000000273,
          2.159999999999968,
          1.4700000000000273,
          2.159999999999968,
          1.9200000000000728,
          1.1100000000000136,
          1.7799999999999727,
          1.0799999999999272,
          1.9600000000000364,
          1.9300000000000637,
          1.8599999999999,
          2.060000000000059,
          1.240000000000009,
          1.419999999999959,
          2.75,
          1.2799999999999727,
          1.5900000000000318,
          1.8999999999999773,
          1.6000000000000227,
          1.3100000000000591,
          3.17999999999995,
          1.669999999999959,
          1.8000000000000682,
          1.7099999999999227,
          1.6700000000000728,
          1.6899999999999409,
          2.090000000000032,
          2.1299999999999955,
          1.3799999999999955,
          1.419999999999959,
          2.740000000000009,
          1.9700000000000273,
          10.31000000000006,
          1.2099999999999227,
          1.8600000000000136,
          1.240000000000009,
          2.6399999999999864,
          2.230000000000018,
          2.2200000000000273,
          1.8199999999999363,
          1.7300000000000182,
          1.4500000000000455,
          2.0399999999999636,
          1.2200000000000273,
          1.7000000000000455,
          1.2899999999999636,
          0.9099999999999682,
          1.7799999999999727,
          2.150000000000091,
          1.7699999999999818,
          1.5599999999999454,
          2.160000000000082,
          1.5299999999999727,
          1.3199999999999363,
          4.360000000000014,
          1.4500000000000455,
          2.880000000000109,
          1.9699999999999136,
          1.8400000000000318,
          1.7100000000000364,
          2.3299999999999272,
          1.3700000000000045,
          1.82000000000005,
          1.0499999999999545,
          2.5,
          2.550000000000068,
          1.1299999999999955,
          1.4499999999999318,
          1.6600000000000819,
          1.7399999999998954,
          1.3400000000000318,
          1.5600000000000591,
          1.4699999999999136,
          1.7900000000000773,
          1.1000000000000227,
          1.3799999999999955,
          1.2199999999999136,
          1.8500000000000227,
          2.8700000000000045,
          2.0799999999999272,
          1.6100000000001273,
          2,
          2.490000000000009,
          1.349999999999909,
          1.490000000000009,
          1.8199999999999363,
          2.3700000000001182,
          1.1399999999998727,
          1.1300000000001091,
          2.4500000000000455,
          0.9299999999998363,
          2.25,
          1.8100000000001728,
          2.019999999999982,
          2.0299999999999727,
          1.9400000000000546,
          1.8399999999999181,
          4.430000000000064,
          2.980000000000018,
          2.25,
          2.0299999999999727,
          1.5199999999999818,
          1.9400000000000546,
          1.509999999999991,
          1.400000000000091,
          2.5799999999999272,
          1.0699999999999363,
          2.4400000000000546,
          1.0199999999999818,
          1.0699999999999363,
          1.5,
          2.550000000000182,
          1.759999999999991,
          1.8099999999999454,
          2.759999999999991,
          1.0499999999999545,
          4.910000000000082,
          2.9300000000000637,
          2.5599999999999454,
          1.75,
          1.8699999999998909,
          2.6000000000001364,
          1.1399999999998727,
          1.550000000000182,
          2.089999999999918,
          2.6900000000000546,
          0.9199999999998454,
          1.300000000000182,
          1.25,
          1.759999999999991,
          2.1299999999998818,
          1.0199999999999818,
          3.380000000000109,
          1.6699999999998454,
          2.290000000000191,
          2.1799999999998363,
          3.009999999999991,
          2.259999999999991,
          1.8899999999998727,
          9.300000000000182,
          2.6399999999998727,
          2.6100000000001273,
          1.9699999999998,
          1.7200000000000273,
          2.040000000000191,
          1.75,
          2.9299999999998363,
          1.6100000000001273,
          1.3799999999998818,
          1.759999999999991,
          3.1400000000001,
          2.869999999999891,
          2.3599999999999,
          2.0100000000002183,
          1.6599999999998545,
          2.400000000000091,
          2.0699999999999363,
          1.9600000000000364,
          1.3299999999999272,
          1.25,
          1.400000000000091,
          1.7799999999999727,
          1.9500000000000455,
          1.4199999999998454,
          2.130000000000109,
          2.3199999999999363,
          2.2100000000000364,
          1.6600000000000819,
          2.1699999999998454,
          1.9600000000000364,
          2.7899999999999636,
          1.9600000000000364,
          1.8599999999999,
          2.160000000000082,
          1.9099999999998545,
          1.6100000000001273,
          2.9099999999998545,
          1.4100000000000819,
          1.0599999999999454,
          1.7000000000000455,
          1.650000000000091,
          1.9399999999998272,
          1.5600000000001728,
          1.3199999999999363,
          1.4300000000000637,
          1.3599999999999,
          2.1200000000001182,
          1.1099999999999,
          1.75,
          1.990000000000009,
          2.589999999999918,
          2.759999999999991,
          2.009999999999991,
          5.220000000000027,
          1.3999999999998636,
          11.700000000000045,
          2.0299999999999727,
          2.240000000000009,
          1.8099999999999454,
          1.4200000000000728,
          2.2100000000000364,
          1.4500000000000455,
          1.9600000000000364,
          0.9299999999998363,
          2.560000000000173,
          2.1099999999999,
          1.9100000000000819,
          1.7999999999999545,
          1.7899999999999636,
          1.740000000000009,
          1.2699999999999818,
          1.8700000000001182,
          2,
          1.6699999999998454,
          1.0499999999999545,
          2.060000000000173,
          2.199999999999818,
          1.1900000000000546,
          1.3199999999999363,
          1.9500000000000455,
          2.230000000000018,
          4,
          0.9900000000000091,
          2.849999999999909,
          2.099999999999909,
          1.650000000000091,
          2.0299999999999727,
          1.2999999999999545,
          2.009999999999991,
          1.400000000000091,
          2.400000000000091,
          1.6399999999998727,
          2.4700000000000273,
          2.1900000000000546,
          1.8599999999999,
          9.840000000000146,
          1.9399999999998272,
          2.0900000000001455,
          2.5699999999999363,
          2.160000000000082,
          1.8599999999999,
          1.9700000000000273,
          1.9200000000000728,
          2,
          1.599999999999909,
          1.050000000000182,
          2.589999999999918,
          1.5399999999999636,
          0.9700000000000273,
          1.009999999999991,
          2.3900000000001,
          1.4099999999998545,
          2.650000000000091,
          1.1399999999998727,
          1.1200000000001182,
          2.0799999999999272,
          2.240000000000009,
          1.2699999999999818,
          1.4300000000000637,
          2.6700000000000728,
          2.1399999999998727,
          1.9700000000000273,
          1.7300000000000182,
          1.9500000000000455,
          1.650000000000091,
          1.1599999999998545,
          2.4300000000000637,
          1.7000000000000455,
          1.0399999999999636,
          1.7899999999999636,
          1.4800000000000182,
          1.0499999999999545,
          1.650000000000091,
          1,
          2.6299999999998818
         ]
        }
       ],
       "layout": {
        "plot_bgcolor": "rgb(220,220,220)",
        "shapes": [
         {
          "fillcolor": "LightSalmon",
          "layer": "below",
          "line": {
           "width": 0
          },
          "opacity": 0.5,
          "type": "rect",
          "x0": 320.2,
          "x1": 357.2,
          "xref": "x",
          "y0": 0,
          "y1": 1,
          "yref": "paper"
         },
         {
          "fillcolor": "LightSalmon",
          "layer": "below",
          "line": {
           "width": 0
          },
          "opacity": 0.5,
          "type": "rect",
          "x0": 420.2,
          "x1": 457.2,
          "xref": "x",
          "y0": 0,
          "y1": 1,
          "yref": "paper"
         },
         {
          "fillcolor": "LightSalmon",
          "layer": "below",
          "line": {
           "width": 0
          },
          "opacity": 0.5,
          "type": "rect",
          "x0": 520.2,
          "x1": 557.2,
          "xref": "x",
          "y0": 0,
          "y1": 1,
          "yref": "paper"
         },
         {
          "fillcolor": "LightSalmon",
          "layer": "below",
          "line": {
           "width": 0
          },
          "opacity": 0.5,
          "type": "rect",
          "x0": 620.2,
          "x1": 657.2,
          "xref": "x",
          "y0": 0,
          "y1": 1,
          "yref": "paper"
         },
         {
          "fillcolor": "LightSalmon",
          "layer": "below",
          "line": {
           "width": 0
          },
          "opacity": 0.5,
          "type": "rect",
          "x0": 720.2,
          "x1": 757.2,
          "xref": "x",
          "y0": 0,
          "y1": 1,
          "yref": "paper"
         },
         {
          "fillcolor": "LightSalmon",
          "layer": "below",
          "line": {
           "width": 0
          },
          "opacity": 0.5,
          "type": "rect",
          "x0": 820.2,
          "x1": 857.2,
          "xref": "x",
          "y0": 0,
          "y1": 1,
          "yref": "paper"
         },
         {
          "fillcolor": "LightSalmon",
          "layer": "below",
          "line": {
           "width": 0
          },
          "opacity": 0.5,
          "type": "rect",
          "x0": 920.2,
          "x1": 957.2,
          "xref": "x",
          "y0": 0,
          "y1": 1,
          "yref": "paper"
         },
         {
          "fillcolor": "LightSalmon",
          "layer": "below",
          "line": {
           "width": 0
          },
          "opacity": 0.5,
          "type": "rect",
          "x0": 1020.2,
          "x1": 1057.2,
          "xref": "x",
          "y0": 0,
          "y1": 1,
          "yref": "paper"
         },
         {
          "fillcolor": "LightSalmon",
          "layer": "below",
          "line": {
           "width": 0
          },
          "opacity": 0.5,
          "type": "rect",
          "x0": 1120.2,
          "x1": 1157.2,
          "xref": "x",
          "y0": 0,
          "y1": 1,
          "yref": "paper"
         },
         {
          "fillcolor": "LightSalmon",
          "layer": "below",
          "line": {
           "width": 0
          },
          "opacity": 0.5,
          "type": "rect",
          "x0": 1220.2,
          "x1": 1257.2,
          "xref": "x",
          "y0": 0,
          "y1": 1,
          "yref": "paper"
         },
         {
          "fillcolor": "LightSalmon",
          "layer": "below",
          "line": {
           "width": 0
          },
          "opacity": 0.5,
          "type": "rect",
          "x0": 1320.2,
          "x1": 1357.2,
          "xref": "x",
          "y0": 0,
          "y1": 1,
          "yref": "paper"
         },
         {
          "fillcolor": "LightSalmon",
          "layer": "below",
          "line": {
           "width": 0
          },
          "opacity": 0.5,
          "type": "rect",
          "x0": 1420.2,
          "x1": 1457.2,
          "xref": "x",
          "y0": 0,
          "y1": 1,
          "yref": "paper"
         },
         {
          "fillcolor": "LightSalmon",
          "layer": "below",
          "line": {
           "width": 0
          },
          "opacity": 0.5,
          "type": "rect",
          "x0": 1520.2,
          "x1": 1557.2,
          "xref": "x",
          "y0": 0,
          "y1": 1,
          "yref": "paper"
         },
         {
          "fillcolor": "LightSalmon",
          "layer": "below",
          "line": {
           "width": 0
          },
          "opacity": 0.5,
          "type": "rect",
          "x0": 1620.2,
          "x1": 1657.2,
          "xref": "x",
          "y0": 0,
          "y1": 1,
          "yref": "paper"
         },
         {
          "fillcolor": "LightSalmon",
          "layer": "below",
          "line": {
           "width": 0
          },
          "opacity": 0.5,
          "type": "rect",
          "x0": 1720.2,
          "x1": 1757.2,
          "xref": "x",
          "y0": 0,
          "y1": 1,
          "yref": "paper"
         },
         {
          "fillcolor": "LightSalmon",
          "layer": "below",
          "line": {
           "width": 0
          },
          "opacity": 0.5,
          "type": "rect",
          "x0": 1820.2,
          "x1": 1857.2,
          "xref": "x",
          "y0": 0,
          "y1": 1,
          "yref": "paper"
         },
         {
          "fillcolor": "LightSalmon",
          "layer": "below",
          "line": {
           "width": 0
          },
          "opacity": 0.5,
          "type": "rect",
          "x0": 1920.2,
          "x1": 1957.2,
          "xref": "x",
          "y0": 0,
          "y1": 1,
          "yref": "paper"
         },
         {
          "fillcolor": "LightSalmon",
          "layer": "below",
          "line": {
           "width": 0
          },
          "opacity": 0.5,
          "type": "rect",
          "x0": 2020.2,
          "x1": 2057.2,
          "xref": "x",
          "y0": 0,
          "y1": 1,
          "yref": "paper"
         }
        ],
        "template": {
         "data": {
          "bar": [
           {
            "error_x": {
             "color": "#2a3f5f"
            },
            "error_y": {
             "color": "#2a3f5f"
            },
            "marker": {
             "line": {
              "color": "#E5ECF6",
              "width": 0.5
             }
            },
            "type": "bar"
           }
          ],
          "barpolar": [
           {
            "marker": {
             "line": {
              "color": "#E5ECF6",
              "width": 0.5
             }
            },
            "type": "barpolar"
           }
          ],
          "carpet": [
           {
            "aaxis": {
             "endlinecolor": "#2a3f5f",
             "gridcolor": "white",
             "linecolor": "white",
             "minorgridcolor": "white",
             "startlinecolor": "#2a3f5f"
            },
            "baxis": {
             "endlinecolor": "#2a3f5f",
             "gridcolor": "white",
             "linecolor": "white",
             "minorgridcolor": "white",
             "startlinecolor": "#2a3f5f"
            },
            "type": "carpet"
           }
          ],
          "choropleth": [
           {
            "colorbar": {
             "outlinewidth": 0,
             "ticks": ""
            },
            "type": "choropleth"
           }
          ],
          "contour": [
           {
            "colorbar": {
             "outlinewidth": 0,
             "ticks": ""
            },
            "colorscale": [
             [
              0,
              "#0d0887"
             ],
             [
              0.1111111111111111,
              "#46039f"
             ],
             [
              0.2222222222222222,
              "#7201a8"
             ],
             [
              0.3333333333333333,
              "#9c179e"
             ],
             [
              0.4444444444444444,
              "#bd3786"
             ],
             [
              0.5555555555555556,
              "#d8576b"
             ],
             [
              0.6666666666666666,
              "#ed7953"
             ],
             [
              0.7777777777777778,
              "#fb9f3a"
             ],
             [
              0.8888888888888888,
              "#fdca26"
             ],
             [
              1,
              "#f0f921"
             ]
            ],
            "type": "contour"
           }
          ],
          "contourcarpet": [
           {
            "colorbar": {
             "outlinewidth": 0,
             "ticks": ""
            },
            "type": "contourcarpet"
           }
          ],
          "heatmap": [
           {
            "colorbar": {
             "outlinewidth": 0,
             "ticks": ""
            },
            "colorscale": [
             [
              0,
              "#0d0887"
             ],
             [
              0.1111111111111111,
              "#46039f"
             ],
             [
              0.2222222222222222,
              "#7201a8"
             ],
             [
              0.3333333333333333,
              "#9c179e"
             ],
             [
              0.4444444444444444,
              "#bd3786"
             ],
             [
              0.5555555555555556,
              "#d8576b"
             ],
             [
              0.6666666666666666,
              "#ed7953"
             ],
             [
              0.7777777777777778,
              "#fb9f3a"
             ],
             [
              0.8888888888888888,
              "#fdca26"
             ],
             [
              1,
              "#f0f921"
             ]
            ],
            "type": "heatmap"
           }
          ],
          "heatmapgl": [
           {
            "colorbar": {
             "outlinewidth": 0,
             "ticks": ""
            },
            "colorscale": [
             [
              0,
              "#0d0887"
             ],
             [
              0.1111111111111111,
              "#46039f"
             ],
             [
              0.2222222222222222,
              "#7201a8"
             ],
             [
              0.3333333333333333,
              "#9c179e"
             ],
             [
              0.4444444444444444,
              "#bd3786"
             ],
             [
              0.5555555555555556,
              "#d8576b"
             ],
             [
              0.6666666666666666,
              "#ed7953"
             ],
             [
              0.7777777777777778,
              "#fb9f3a"
             ],
             [
              0.8888888888888888,
              "#fdca26"
             ],
             [
              1,
              "#f0f921"
             ]
            ],
            "type": "heatmapgl"
           }
          ],
          "histogram": [
           {
            "marker": {
             "colorbar": {
              "outlinewidth": 0,
              "ticks": ""
             }
            },
            "type": "histogram"
           }
          ],
          "histogram2d": [
           {
            "colorbar": {
             "outlinewidth": 0,
             "ticks": ""
            },
            "colorscale": [
             [
              0,
              "#0d0887"
             ],
             [
              0.1111111111111111,
              "#46039f"
             ],
             [
              0.2222222222222222,
              "#7201a8"
             ],
             [
              0.3333333333333333,
              "#9c179e"
             ],
             [
              0.4444444444444444,
              "#bd3786"
             ],
             [
              0.5555555555555556,
              "#d8576b"
             ],
             [
              0.6666666666666666,
              "#ed7953"
             ],
             [
              0.7777777777777778,
              "#fb9f3a"
             ],
             [
              0.8888888888888888,
              "#fdca26"
             ],
             [
              1,
              "#f0f921"
             ]
            ],
            "type": "histogram2d"
           }
          ],
          "histogram2dcontour": [
           {
            "colorbar": {
             "outlinewidth": 0,
             "ticks": ""
            },
            "colorscale": [
             [
              0,
              "#0d0887"
             ],
             [
              0.1111111111111111,
              "#46039f"
             ],
             [
              0.2222222222222222,
              "#7201a8"
             ],
             [
              0.3333333333333333,
              "#9c179e"
             ],
             [
              0.4444444444444444,
              "#bd3786"
             ],
             [
              0.5555555555555556,
              "#d8576b"
             ],
             [
              0.6666666666666666,
              "#ed7953"
             ],
             [
              0.7777777777777778,
              "#fb9f3a"
             ],
             [
              0.8888888888888888,
              "#fdca26"
             ],
             [
              1,
              "#f0f921"
             ]
            ],
            "type": "histogram2dcontour"
           }
          ],
          "mesh3d": [
           {
            "colorbar": {
             "outlinewidth": 0,
             "ticks": ""
            },
            "type": "mesh3d"
           }
          ],
          "parcoords": [
           {
            "line": {
             "colorbar": {
              "outlinewidth": 0,
              "ticks": ""
             }
            },
            "type": "parcoords"
           }
          ],
          "scatter": [
           {
            "marker": {
             "colorbar": {
              "outlinewidth": 0,
              "ticks": ""
             }
            },
            "type": "scatter"
           }
          ],
          "scatter3d": [
           {
            "line": {
             "colorbar": {
              "outlinewidth": 0,
              "ticks": ""
             }
            },
            "marker": {
             "colorbar": {
              "outlinewidth": 0,
              "ticks": ""
             }
            },
            "type": "scatter3d"
           }
          ],
          "scattercarpet": [
           {
            "marker": {
             "colorbar": {
              "outlinewidth": 0,
              "ticks": ""
             }
            },
            "type": "scattercarpet"
           }
          ],
          "scattergeo": [
           {
            "marker": {
             "colorbar": {
              "outlinewidth": 0,
              "ticks": ""
             }
            },
            "type": "scattergeo"
           }
          ],
          "scattergl": [
           {
            "marker": {
             "colorbar": {
              "outlinewidth": 0,
              "ticks": ""
             }
            },
            "type": "scattergl"
           }
          ],
          "scattermapbox": [
           {
            "marker": {
             "colorbar": {
              "outlinewidth": 0,
              "ticks": ""
             }
            },
            "type": "scattermapbox"
           }
          ],
          "scatterpolar": [
           {
            "marker": {
             "colorbar": {
              "outlinewidth": 0,
              "ticks": ""
             }
            },
            "type": "scatterpolar"
           }
          ],
          "scatterpolargl": [
           {
            "marker": {
             "colorbar": {
              "outlinewidth": 0,
              "ticks": ""
             }
            },
            "type": "scatterpolargl"
           }
          ],
          "scatterternary": [
           {
            "marker": {
             "colorbar": {
              "outlinewidth": 0,
              "ticks": ""
             }
            },
            "type": "scatterternary"
           }
          ],
          "surface": [
           {
            "colorbar": {
             "outlinewidth": 0,
             "ticks": ""
            },
            "colorscale": [
             [
              0,
              "#0d0887"
             ],
             [
              0.1111111111111111,
              "#46039f"
             ],
             [
              0.2222222222222222,
              "#7201a8"
             ],
             [
              0.3333333333333333,
              "#9c179e"
             ],
             [
              0.4444444444444444,
              "#bd3786"
             ],
             [
              0.5555555555555556,
              "#d8576b"
             ],
             [
              0.6666666666666666,
              "#ed7953"
             ],
             [
              0.7777777777777778,
              "#fb9f3a"
             ],
             [
              0.8888888888888888,
              "#fdca26"
             ],
             [
              1,
              "#f0f921"
             ]
            ],
            "type": "surface"
           }
          ],
          "table": [
           {
            "cells": {
             "fill": {
              "color": "#EBF0F8"
             },
             "line": {
              "color": "white"
             }
            },
            "header": {
             "fill": {
              "color": "#C8D4E3"
             },
             "line": {
              "color": "white"
             }
            },
            "type": "table"
           }
          ]
         },
         "layout": {
          "annotationdefaults": {
           "arrowcolor": "#2a3f5f",
           "arrowhead": 0,
           "arrowwidth": 1
          },
          "colorscale": {
           "diverging": [
            [
             0,
             "#8e0152"
            ],
            [
             0.1,
             "#c51b7d"
            ],
            [
             0.2,
             "#de77ae"
            ],
            [
             0.3,
             "#f1b6da"
            ],
            [
             0.4,
             "#fde0ef"
            ],
            [
             0.5,
             "#f7f7f7"
            ],
            [
             0.6,
             "#e6f5d0"
            ],
            [
             0.7,
             "#b8e186"
            ],
            [
             0.8,
             "#7fbc41"
            ],
            [
             0.9,
             "#4d9221"
            ],
            [
             1,
             "#276419"
            ]
           ],
           "sequential": [
            [
             0,
             "#0d0887"
            ],
            [
             0.1111111111111111,
             "#46039f"
            ],
            [
             0.2222222222222222,
             "#7201a8"
            ],
            [
             0.3333333333333333,
             "#9c179e"
            ],
            [
             0.4444444444444444,
             "#bd3786"
            ],
            [
             0.5555555555555556,
             "#d8576b"
            ],
            [
             0.6666666666666666,
             "#ed7953"
            ],
            [
             0.7777777777777778,
             "#fb9f3a"
            ],
            [
             0.8888888888888888,
             "#fdca26"
            ],
            [
             1,
             "#f0f921"
            ]
           ],
           "sequentialminus": [
            [
             0,
             "#0d0887"
            ],
            [
             0.1111111111111111,
             "#46039f"
            ],
            [
             0.2222222222222222,
             "#7201a8"
            ],
            [
             0.3333333333333333,
             "#9c179e"
            ],
            [
             0.4444444444444444,
             "#bd3786"
            ],
            [
             0.5555555555555556,
             "#d8576b"
            ],
            [
             0.6666666666666666,
             "#ed7953"
            ],
            [
             0.7777777777777778,
             "#fb9f3a"
            ],
            [
             0.8888888888888888,
             "#fdca26"
            ],
            [
             1,
             "#f0f921"
            ]
           ]
          },
          "colorway": [
           "#636efa",
           "#EF553B",
           "#00cc96",
           "#ab63fa",
           "#FFA15A",
           "#19d3f3",
           "#FF6692",
           "#B6E880",
           "#FF97FF",
           "#FECB52"
          ],
          "font": {
           "color": "#2a3f5f"
          },
          "geo": {
           "bgcolor": "white",
           "lakecolor": "white",
           "landcolor": "#E5ECF6",
           "showlakes": true,
           "showland": true,
           "subunitcolor": "white"
          },
          "hoverlabel": {
           "align": "left"
          },
          "hovermode": "closest",
          "mapbox": {
           "style": "light"
          },
          "paper_bgcolor": "white",
          "plot_bgcolor": "#E5ECF6",
          "polar": {
           "angularaxis": {
            "gridcolor": "white",
            "linecolor": "white",
            "ticks": ""
           },
           "bgcolor": "#E5ECF6",
           "radialaxis": {
            "gridcolor": "white",
            "linecolor": "white",
            "ticks": ""
           }
          },
          "scene": {
           "xaxis": {
            "backgroundcolor": "#E5ECF6",
            "gridcolor": "white",
            "gridwidth": 2,
            "linecolor": "white",
            "showbackground": true,
            "ticks": "",
            "zerolinecolor": "white"
           },
           "yaxis": {
            "backgroundcolor": "#E5ECF6",
            "gridcolor": "white",
            "gridwidth": 2,
            "linecolor": "white",
            "showbackground": true,
            "ticks": "",
            "zerolinecolor": "white"
           },
           "zaxis": {
            "backgroundcolor": "#E5ECF6",
            "gridcolor": "white",
            "gridwidth": 2,
            "linecolor": "white",
            "showbackground": true,
            "ticks": "",
            "zerolinecolor": "white"
           }
          },
          "shapedefaults": {
           "line": {
            "color": "#2a3f5f"
           }
          },
          "ternary": {
           "aaxis": {
            "gridcolor": "white",
            "linecolor": "white",
            "ticks": ""
           },
           "baxis": {
            "gridcolor": "white",
            "linecolor": "white",
            "ticks": ""
           },
           "bgcolor": "#E5ECF6",
           "caxis": {
            "gridcolor": "white",
            "linecolor": "white",
            "ticks": ""
           }
          },
          "title": {
           "x": 0.05
          },
          "xaxis": {
           "automargin": true,
           "gridcolor": "white",
           "linecolor": "white",
           "ticks": "",
           "zerolinecolor": "white",
           "zerolinewidth": 2
          },
          "yaxis": {
           "automargin": true,
           "gridcolor": "white",
           "linecolor": "white",
           "ticks": "",
           "zerolinecolor": "white",
           "zerolinewidth": 2
          }
         }
        }
       }
      },
      "text/html": [
       "<div>\n",
       "        \n",
       "        \n",
       "            <div id=\"63a6fb8d-09e4-4527-af03-c9c7a6e65956\" class=\"plotly-graph-div\" style=\"height:525px; width:100%;\"></div>\n",
       "            <script type=\"text/javascript\">\n",
       "                require([\"plotly\"], function(Plotly) {\n",
       "                    window.PLOTLYENV=window.PLOTLYENV || {};\n",
       "                    \n",
       "                if (document.getElementById(\"63a6fb8d-09e4-4527-af03-c9c7a6e65956\")) {\n",
       "                    Plotly.newPlot(\n",
       "                        '63a6fb8d-09e4-4527-af03-c9c7a6e65956',\n",
       "                        [{\"mode\": \"markers\", \"name\": \"markers\", \"type\": \"scatter\", \"x\": [324.12, 326.19, 328.37, 330.32, 332.0, 334.83, 337.2, 339.35, 340.9, 342.19, 344.94, 347.65, 349.98, 351.87, 357.1, 361.67, 424.11, 426.52, 430.04, 432.05, 434.17, 435.81, 437.64, 440.35, 442.79, 445.95, 448.05, 450.66, 452.28, 457.83, 524.02, 526.41, 529.46, 531.73, 534.47, 537.01, 539.7, 542.93, 545.42, 547.55, 549.9, 551.9, 553.87, 558.04, 624.05, 626.33, 627.91, 630.29, 631.8, 633.66, 635.48, 638.4, 641.38, 643.65, 645.65, 647.75, 649.4, 652.87, 654.66, 657.05, 658.97, 724.67, 727.88, 730.84, 733.5, 735.91, 737.82, 739.57, 742.77, 751.42, 754.62, 757.22, 758.92, 824.35, 827.26, 829.1, 831.22, 833.19, 834.76, 836.46, 838.79, 840.88, 845.04, 847.77, 849.59, 852.65, 854.69, 857.27, 859.16, 924.1, 926.96, 928.87, 930.73, 932.3, 933.86, 936.17, 937.31, 940.61, 942.57, 944.44, 946.35, 951.33, 952.95, 956.08, 1024.19, 1026.5, 1028.81, 1030.62, 1032.66, 1035.92, 1037.54, 1040.47, 1042.34, 1044.61, 1046.49, 1051.39, 1053.94, 1056.87, 1059.25, 1124.44, 1126.24, 1128.64, 1130.68, 1133.21, 1135.78, 1138.34, 1140.11, 1141.67, 1143.19, 1144.92, 1146.18, 1150.04, 1151.71, 1224.15, 1226.16, 1228.13, 1230.1, 1233.08, 1235.94, 1238.1, 1240.61, 1243.07, 1245.17, 1246.7, 1248.4, 1250.66, 1256.12, 1257.59, 1324.34, 1326.96, 1329.79, 1332.61, 1335.63, 1338.5, 1340.64, 1343.08, 1345.39, 1347.54, 1349.16, 1350.32, 1353.89, 1355.88, 1357.76, 1360.99, 1424.19, 1426.34, 1429.09, 1431.63, 1433.81, 1435.47, 1437.93, 1439.93, 1442.1, 1444.0, 1445.82, 1449.67, 1454.33, 1456.19, 1524.29, 1526.43, 1529.42, 1531.95, 1533.65, 1535.29, 1536.66, 1537.91, 1539.1, 1542.48, 1545.1, 1549.89, 1552.25, 1555.09, 1557.08, 1624.39, 1626.53, 1628.16, 1629.7, 1631.82, 1634.16, 1636.31, 1639.66, 1641.93, 1644.47, 1647.04, 1649.88, 1651.65, 1653.84, 1655.6, 1657.17, 1659.56, 1724.35, 1726.91, 1729.77, 1731.83, 1734.35, 1736.17, 1738.47, 1740.9, 1743.14, 1744.88, 1746.53, 1748.28, 1749.99, 1751.43, 1754.84, 1758.27, 1824.25, 1826.38, 1827.9, 1830.04, 1831.67, 1833.66, 1835.43, 1838.24, 1840.42, 1843.97, 1847.79, 1850.25, 1852.11, 1853.86, 1856.85, 1858.68, 1923.99, 1926.16, 1927.87, 1930.37, 1931.94, 1933.87, 1937.47, 1939.62, 1941.54, 1943.43, 1946.24, 1949.81, 1952.47, 1955.46, 1958.06, 2024.48, 2027.25, 2029.95, 2032.6, 2035.4, 2037.39, 2039.46, 2041.16, 2043.05, 2045.82, 2048.07, 2050.24, 2052.36, 2055.79], \"y\": [2.9600000000000364, 1.7199999999999704, 2.0500000000000114, 1.8500000000000227, 1.6800000000000068, 2.3100000000000023, 1.6499999999999773, 1.1000000000000227, 1.8799999999999955, 2.079999999999984, 1.1200000000000045, 2.079999999999984, 2.230000000000018, 1.0600000000000023, 1.7199999999999704, 2.090000000000032, 1.8799999999999955, 1.1399999999999864, 3.069999999999993, 2.8500000000000227, 2.319999999999993, 1.829999999999984, 1.4499999999999886, 2.670000000000016, 1.3400000000000318, 2.0399999999999636, 1.920000000000016, 1.5500000000000114, 2.609999999999957, 1.3500000000000227, 1.5, 2.1399999999999864, 2.1299999999999955, 2.660000000000025, 1.1100000000000136, 1.7299999999999613, 2.5200000000000387, 2.5399999999999636, 2.6299999999999955, 2.410000000000082, 2.1100000000000136, 1.2099999999999227, 2.32000000000005, 1.2799999999999727, 1.17999999999995, 2.1800000000000637, 1.2999999999999545, 1.9600000000000364, 1.419999999999959, 2.090000000000032, 1.669999999999959, 1.6900000000000546, 1.32000000000005, 2.7899999999999636, 1.3700000000000045, 1.3999999999999773, 3.169999999999959, 2.699999999999932, 1.9700000000000273, 2.159999999999968, 1.4700000000000273, 2.159999999999968, 1.9200000000000728, 1.1100000000000136, 1.7799999999999727, 1.0799999999999272, 1.9600000000000364, 1.9300000000000637, 1.8599999999999, 2.060000000000059, 1.240000000000009, 1.419999999999959, 2.75, 1.2799999999999727, 1.5900000000000318, 1.8999999999999773, 1.6000000000000227, 1.3100000000000591, 3.17999999999995, 1.669999999999959, 1.8000000000000682, 1.7099999999999227, 1.6700000000000728, 1.6899999999999409, 2.090000000000032, 2.1299999999999955, 1.3799999999999955, 1.419999999999959, 2.740000000000009, 1.9700000000000273, 10.31000000000006, 1.2099999999999227, 1.8600000000000136, 1.240000000000009, 2.6399999999999864, 2.230000000000018, 2.2200000000000273, 1.8199999999999363, 1.7300000000000182, 1.4500000000000455, 2.0399999999999636, 1.2200000000000273, 1.7000000000000455, 1.2899999999999636, 0.9099999999999682, 1.7799999999999727, 2.150000000000091, 1.7699999999999818, 1.5599999999999454, 2.160000000000082, 1.5299999999999727, 1.3199999999999363, 4.360000000000014, 1.4500000000000455, 2.880000000000109, 1.9699999999999136, 1.8400000000000318, 1.7100000000000364, 2.3299999999999272, 1.3700000000000045, 1.82000000000005, 1.0499999999999545, 2.5, 2.550000000000068, 1.1299999999999955, 1.4499999999999318, 1.6600000000000819, 1.7399999999998954, 1.3400000000000318, 1.5600000000000591, 1.4699999999999136, 1.7900000000000773, 1.1000000000000227, 1.3799999999999955, 1.2199999999999136, 1.8500000000000227, 2.8700000000000045, 2.0799999999999272, 1.6100000000001273, 2.0, 2.490000000000009, 1.349999999999909, 1.490000000000009, 1.8199999999999363, 2.3700000000001182, 1.1399999999998727, 1.1300000000001091, 2.4500000000000455, 0.9299999999998363, 2.25, 1.8100000000001728, 2.019999999999982, 2.0299999999999727, 1.9400000000000546, 1.8399999999999181, 4.430000000000064, 2.980000000000018, 2.25, 2.0299999999999727, 1.5199999999999818, 1.9400000000000546, 1.509999999999991, 1.400000000000091, 2.5799999999999272, 1.0699999999999363, 2.4400000000000546, 1.0199999999999818, 1.0699999999999363, 1.5, 2.550000000000182, 1.759999999999991, 1.8099999999999454, 2.759999999999991, 1.0499999999999545, 4.910000000000082, 2.9300000000000637, 2.5599999999999454, 1.75, 1.8699999999998909, 2.6000000000001364, 1.1399999999998727, 1.550000000000182, 2.089999999999918, 2.6900000000000546, 0.9199999999998454, 1.300000000000182, 1.25, 1.759999999999991, 2.1299999999998818, 1.0199999999999818, 3.380000000000109, 1.6699999999998454, 2.290000000000191, 2.1799999999998363, 3.009999999999991, 2.259999999999991, 1.8899999999998727, 9.300000000000182, 2.6399999999998727, 2.6100000000001273, 1.9699999999998, 1.7200000000000273, 2.040000000000191, 1.75, 2.9299999999998363, 1.6100000000001273, 1.3799999999998818, 1.759999999999991, 3.1400000000001, 2.869999999999891, 2.3599999999999, 2.0100000000002183, 1.6599999999998545, 2.400000000000091, 2.0699999999999363, 1.9600000000000364, 1.3299999999999272, 1.25, 1.400000000000091, 1.7799999999999727, 1.9500000000000455, 1.4199999999998454, 2.130000000000109, 2.3199999999999363, 2.2100000000000364, 1.6600000000000819, 2.1699999999998454, 1.9600000000000364, 2.7899999999999636, 1.9600000000000364, 1.8599999999999, 2.160000000000082, 1.9099999999998545, 1.6100000000001273, 2.9099999999998545, 1.4100000000000819, 1.0599999999999454, 1.7000000000000455, 1.650000000000091, 1.9399999999998272, 1.5600000000001728, 1.3199999999999363, 1.4300000000000637, 1.3599999999999, 2.1200000000001182, 1.1099999999999, 1.75, 1.990000000000009, 2.589999999999918, 2.759999999999991, 2.009999999999991, 5.220000000000027, 1.3999999999998636, 11.700000000000045, 2.0299999999999727, 2.240000000000009, 1.8099999999999454, 1.4200000000000728, 2.2100000000000364, 1.4500000000000455, 1.9600000000000364, 0.9299999999998363, 2.560000000000173, 2.1099999999999, 1.9100000000000819, 1.7999999999999545, 1.7899999999999636, 1.740000000000009, 1.2699999999999818, 1.8700000000001182, 2.0, 1.6699999999998454, 1.0499999999999545, 2.060000000000173, 2.199999999999818, 1.1900000000000546, 1.3199999999999363, 1.9500000000000455, 2.230000000000018, 4.0, 0.9900000000000091, 2.849999999999909, 2.099999999999909, 1.650000000000091, 2.0299999999999727, 1.2999999999999545, 2.009999999999991, 1.400000000000091, 2.400000000000091, 1.6399999999998727, 2.4700000000000273, 2.1900000000000546, 1.8599999999999, 9.840000000000146, 1.9399999999998272, 2.0900000000001455, 2.5699999999999363, 2.160000000000082, 1.8599999999999, 1.9700000000000273, 1.9200000000000728, 2.0, 1.599999999999909, 1.050000000000182, 2.589999999999918, 1.5399999999999636, 0.9700000000000273, 1.009999999999991, 2.3900000000001, 1.4099999999998545, 2.650000000000091, 1.1399999999998727, 1.1200000000001182, 2.0799999999999272, 2.240000000000009, 1.2699999999999818, 1.4300000000000637, 2.6700000000000728, 2.1399999999998727, 1.9700000000000273, 1.7300000000000182, 1.9500000000000455, 1.650000000000091, 1.1599999999998545, 2.4300000000000637, 1.7000000000000455, 1.0399999999999636, 1.7899999999999636, 1.4800000000000182, 1.0499999999999545, 1.650000000000091, 1.0, 2.6299999999998818]}],\n",
       "                        {\"plot_bgcolor\": \"rgb(220,220,220)\", \"shapes\": [{\"fillcolor\": \"LightSalmon\", \"layer\": \"below\", \"line\": {\"width\": 0}, \"opacity\": 0.5, \"type\": \"rect\", \"x0\": 320.2, \"x1\": 357.2, \"xref\": \"x\", \"y0\": 0, \"y1\": 1, \"yref\": \"paper\"}, {\"fillcolor\": \"LightSalmon\", \"layer\": \"below\", \"line\": {\"width\": 0}, \"opacity\": 0.5, \"type\": \"rect\", \"x0\": 420.2, \"x1\": 457.2, \"xref\": \"x\", \"y0\": 0, \"y1\": 1, \"yref\": \"paper\"}, {\"fillcolor\": \"LightSalmon\", \"layer\": \"below\", \"line\": {\"width\": 0}, \"opacity\": 0.5, \"type\": \"rect\", \"x0\": 520.2, \"x1\": 557.2, \"xref\": \"x\", \"y0\": 0, \"y1\": 1, \"yref\": \"paper\"}, {\"fillcolor\": \"LightSalmon\", \"layer\": \"below\", \"line\": {\"width\": 0}, \"opacity\": 0.5, \"type\": \"rect\", \"x0\": 620.2, \"x1\": 657.2, \"xref\": \"x\", \"y0\": 0, \"y1\": 1, \"yref\": \"paper\"}, {\"fillcolor\": \"LightSalmon\", \"layer\": \"below\", \"line\": {\"width\": 0}, \"opacity\": 0.5, \"type\": \"rect\", \"x0\": 720.2, \"x1\": 757.2, \"xref\": \"x\", \"y0\": 0, \"y1\": 1, \"yref\": \"paper\"}, {\"fillcolor\": \"LightSalmon\", \"layer\": \"below\", \"line\": {\"width\": 0}, \"opacity\": 0.5, \"type\": \"rect\", \"x0\": 820.2, \"x1\": 857.2, \"xref\": \"x\", \"y0\": 0, \"y1\": 1, \"yref\": \"paper\"}, {\"fillcolor\": \"LightSalmon\", \"layer\": \"below\", \"line\": {\"width\": 0}, \"opacity\": 0.5, \"type\": \"rect\", \"x0\": 920.2, \"x1\": 957.2, \"xref\": \"x\", \"y0\": 0, \"y1\": 1, \"yref\": \"paper\"}, {\"fillcolor\": \"LightSalmon\", \"layer\": \"below\", \"line\": {\"width\": 0}, \"opacity\": 0.5, \"type\": \"rect\", \"x0\": 1020.2, \"x1\": 1057.2, \"xref\": \"x\", \"y0\": 0, \"y1\": 1, \"yref\": \"paper\"}, {\"fillcolor\": \"LightSalmon\", \"layer\": \"below\", \"line\": {\"width\": 0}, \"opacity\": 0.5, \"type\": \"rect\", \"x0\": 1120.2, \"x1\": 1157.2, \"xref\": \"x\", \"y0\": 0, \"y1\": 1, \"yref\": \"paper\"}, {\"fillcolor\": \"LightSalmon\", \"layer\": \"below\", \"line\": {\"width\": 0}, \"opacity\": 0.5, \"type\": \"rect\", \"x0\": 1220.2, \"x1\": 1257.2, \"xref\": \"x\", \"y0\": 0, \"y1\": 1, \"yref\": \"paper\"}, {\"fillcolor\": \"LightSalmon\", \"layer\": \"below\", \"line\": {\"width\": 0}, \"opacity\": 0.5, \"type\": \"rect\", \"x0\": 1320.2, \"x1\": 1357.2, \"xref\": \"x\", \"y0\": 0, \"y1\": 1, \"yref\": \"paper\"}, {\"fillcolor\": \"LightSalmon\", \"layer\": \"below\", \"line\": {\"width\": 0}, \"opacity\": 0.5, \"type\": \"rect\", \"x0\": 1420.2, \"x1\": 1457.2, \"xref\": \"x\", \"y0\": 0, \"y1\": 1, \"yref\": \"paper\"}, {\"fillcolor\": \"LightSalmon\", \"layer\": \"below\", \"line\": {\"width\": 0}, \"opacity\": 0.5, \"type\": \"rect\", \"x0\": 1520.2, \"x1\": 1557.2, \"xref\": \"x\", \"y0\": 0, \"y1\": 1, \"yref\": \"paper\"}, {\"fillcolor\": \"LightSalmon\", \"layer\": \"below\", \"line\": {\"width\": 0}, \"opacity\": 0.5, \"type\": \"rect\", \"x0\": 1620.2, \"x1\": 1657.2, \"xref\": \"x\", \"y0\": 0, \"y1\": 1, \"yref\": \"paper\"}, {\"fillcolor\": \"LightSalmon\", \"layer\": \"below\", \"line\": {\"width\": 0}, \"opacity\": 0.5, \"type\": \"rect\", \"x0\": 1720.2, \"x1\": 1757.2, \"xref\": \"x\", \"y0\": 0, \"y1\": 1, \"yref\": \"paper\"}, {\"fillcolor\": \"LightSalmon\", \"layer\": \"below\", \"line\": {\"width\": 0}, \"opacity\": 0.5, \"type\": \"rect\", \"x0\": 1820.2, \"x1\": 1857.2, \"xref\": \"x\", \"y0\": 0, \"y1\": 1, \"yref\": \"paper\"}, {\"fillcolor\": \"LightSalmon\", \"layer\": \"below\", \"line\": {\"width\": 0}, \"opacity\": 0.5, \"type\": \"rect\", \"x0\": 1920.2, \"x1\": 1957.2, \"xref\": \"x\", \"y0\": 0, \"y1\": 1, \"yref\": \"paper\"}, {\"fillcolor\": \"LightSalmon\", \"layer\": \"below\", \"line\": {\"width\": 0}, \"opacity\": 0.5, \"type\": \"rect\", \"x0\": 2020.2, \"x1\": 2057.2, \"xref\": \"x\", \"y0\": 0, \"y1\": 1, \"yref\": \"paper\"}], \"template\": {\"data\": {\"bar\": [{\"error_x\": {\"color\": \"#2a3f5f\"}, \"error_y\": {\"color\": \"#2a3f5f\"}, \"marker\": {\"line\": {\"color\": \"#E5ECF6\", \"width\": 0.5}}, \"type\": \"bar\"}], \"barpolar\": [{\"marker\": {\"line\": {\"color\": \"#E5ECF6\", \"width\": 0.5}}, \"type\": \"barpolar\"}], \"carpet\": [{\"aaxis\": {\"endlinecolor\": \"#2a3f5f\", \"gridcolor\": \"white\", \"linecolor\": \"white\", \"minorgridcolor\": \"white\", \"startlinecolor\": \"#2a3f5f\"}, \"baxis\": {\"endlinecolor\": \"#2a3f5f\", \"gridcolor\": \"white\", \"linecolor\": \"white\", \"minorgridcolor\": \"white\", \"startlinecolor\": \"#2a3f5f\"}, \"type\": \"carpet\"}], \"choropleth\": [{\"colorbar\": {\"outlinewidth\": 0, \"ticks\": \"\"}, \"type\": \"choropleth\"}], \"contour\": [{\"colorbar\": {\"outlinewidth\": 0, \"ticks\": \"\"}, \"colorscale\": [[0.0, \"#0d0887\"], [0.1111111111111111, \"#46039f\"], [0.2222222222222222, \"#7201a8\"], [0.3333333333333333, \"#9c179e\"], [0.4444444444444444, \"#bd3786\"], [0.5555555555555556, \"#d8576b\"], [0.6666666666666666, \"#ed7953\"], [0.7777777777777778, \"#fb9f3a\"], [0.8888888888888888, \"#fdca26\"], [1.0, \"#f0f921\"]], \"type\": \"contour\"}], \"contourcarpet\": [{\"colorbar\": {\"outlinewidth\": 0, \"ticks\": \"\"}, \"type\": \"contourcarpet\"}], \"heatmap\": [{\"colorbar\": {\"outlinewidth\": 0, \"ticks\": \"\"}, \"colorscale\": [[0.0, \"#0d0887\"], [0.1111111111111111, \"#46039f\"], [0.2222222222222222, \"#7201a8\"], [0.3333333333333333, \"#9c179e\"], [0.4444444444444444, \"#bd3786\"], [0.5555555555555556, \"#d8576b\"], [0.6666666666666666, \"#ed7953\"], [0.7777777777777778, \"#fb9f3a\"], [0.8888888888888888, \"#fdca26\"], [1.0, \"#f0f921\"]], \"type\": \"heatmap\"}], \"heatmapgl\": [{\"colorbar\": {\"outlinewidth\": 0, \"ticks\": \"\"}, \"colorscale\": [[0.0, \"#0d0887\"], [0.1111111111111111, \"#46039f\"], [0.2222222222222222, \"#7201a8\"], [0.3333333333333333, \"#9c179e\"], [0.4444444444444444, \"#bd3786\"], [0.5555555555555556, \"#d8576b\"], [0.6666666666666666, \"#ed7953\"], [0.7777777777777778, \"#fb9f3a\"], [0.8888888888888888, \"#fdca26\"], [1.0, \"#f0f921\"]], \"type\": \"heatmapgl\"}], \"histogram\": [{\"marker\": {\"colorbar\": {\"outlinewidth\": 0, \"ticks\": \"\"}}, \"type\": \"histogram\"}], \"histogram2d\": [{\"colorbar\": {\"outlinewidth\": 0, \"ticks\": \"\"}, \"colorscale\": [[0.0, \"#0d0887\"], [0.1111111111111111, \"#46039f\"], [0.2222222222222222, \"#7201a8\"], [0.3333333333333333, \"#9c179e\"], [0.4444444444444444, \"#bd3786\"], [0.5555555555555556, \"#d8576b\"], [0.6666666666666666, \"#ed7953\"], [0.7777777777777778, \"#fb9f3a\"], [0.8888888888888888, \"#fdca26\"], [1.0, \"#f0f921\"]], \"type\": \"histogram2d\"}], \"histogram2dcontour\": [{\"colorbar\": {\"outlinewidth\": 0, \"ticks\": \"\"}, \"colorscale\": [[0.0, \"#0d0887\"], [0.1111111111111111, \"#46039f\"], [0.2222222222222222, \"#7201a8\"], [0.3333333333333333, \"#9c179e\"], [0.4444444444444444, \"#bd3786\"], [0.5555555555555556, \"#d8576b\"], [0.6666666666666666, \"#ed7953\"], [0.7777777777777778, \"#fb9f3a\"], [0.8888888888888888, \"#fdca26\"], [1.0, \"#f0f921\"]], \"type\": \"histogram2dcontour\"}], \"mesh3d\": [{\"colorbar\": {\"outlinewidth\": 0, \"ticks\": \"\"}, \"type\": \"mesh3d\"}], \"parcoords\": [{\"line\": {\"colorbar\": {\"outlinewidth\": 0, \"ticks\": \"\"}}, \"type\": \"parcoords\"}], \"scatter\": [{\"marker\": {\"colorbar\": {\"outlinewidth\": 0, \"ticks\": \"\"}}, \"type\": \"scatter\"}], \"scatter3d\": [{\"line\": {\"colorbar\": {\"outlinewidth\": 0, \"ticks\": \"\"}}, \"marker\": {\"colorbar\": {\"outlinewidth\": 0, \"ticks\": \"\"}}, \"type\": \"scatter3d\"}], \"scattercarpet\": [{\"marker\": {\"colorbar\": {\"outlinewidth\": 0, \"ticks\": \"\"}}, \"type\": \"scattercarpet\"}], \"scattergeo\": [{\"marker\": {\"colorbar\": {\"outlinewidth\": 0, \"ticks\": \"\"}}, \"type\": \"scattergeo\"}], \"scattergl\": [{\"marker\": {\"colorbar\": {\"outlinewidth\": 0, \"ticks\": \"\"}}, \"type\": \"scattergl\"}], \"scattermapbox\": [{\"marker\": {\"colorbar\": {\"outlinewidth\": 0, \"ticks\": \"\"}}, \"type\": \"scattermapbox\"}], \"scatterpolar\": [{\"marker\": {\"colorbar\": {\"outlinewidth\": 0, \"ticks\": \"\"}}, \"type\": \"scatterpolar\"}], \"scatterpolargl\": [{\"marker\": {\"colorbar\": {\"outlinewidth\": 0, \"ticks\": \"\"}}, \"type\": \"scatterpolargl\"}], \"scatterternary\": [{\"marker\": {\"colorbar\": {\"outlinewidth\": 0, \"ticks\": \"\"}}, \"type\": \"scatterternary\"}], \"surface\": [{\"colorbar\": {\"outlinewidth\": 0, \"ticks\": \"\"}, \"colorscale\": [[0.0, \"#0d0887\"], [0.1111111111111111, \"#46039f\"], [0.2222222222222222, \"#7201a8\"], [0.3333333333333333, \"#9c179e\"], [0.4444444444444444, \"#bd3786\"], [0.5555555555555556, \"#d8576b\"], [0.6666666666666666, \"#ed7953\"], [0.7777777777777778, \"#fb9f3a\"], [0.8888888888888888, \"#fdca26\"], [1.0, \"#f0f921\"]], \"type\": \"surface\"}], \"table\": [{\"cells\": {\"fill\": {\"color\": \"#EBF0F8\"}, \"line\": {\"color\": \"white\"}}, \"header\": {\"fill\": {\"color\": \"#C8D4E3\"}, \"line\": {\"color\": \"white\"}}, \"type\": \"table\"}]}, \"layout\": {\"annotationdefaults\": {\"arrowcolor\": \"#2a3f5f\", \"arrowhead\": 0, \"arrowwidth\": 1}, \"colorscale\": {\"diverging\": [[0, \"#8e0152\"], [0.1, \"#c51b7d\"], [0.2, \"#de77ae\"], [0.3, \"#f1b6da\"], [0.4, \"#fde0ef\"], [0.5, \"#f7f7f7\"], [0.6, \"#e6f5d0\"], [0.7, \"#b8e186\"], [0.8, \"#7fbc41\"], [0.9, \"#4d9221\"], [1, \"#276419\"]], \"sequential\": [[0.0, \"#0d0887\"], [0.1111111111111111, \"#46039f\"], [0.2222222222222222, \"#7201a8\"], [0.3333333333333333, \"#9c179e\"], [0.4444444444444444, \"#bd3786\"], [0.5555555555555556, \"#d8576b\"], [0.6666666666666666, \"#ed7953\"], [0.7777777777777778, \"#fb9f3a\"], [0.8888888888888888, \"#fdca26\"], [1.0, \"#f0f921\"]], \"sequentialminus\": [[0.0, \"#0d0887\"], [0.1111111111111111, \"#46039f\"], [0.2222222222222222, \"#7201a8\"], [0.3333333333333333, \"#9c179e\"], [0.4444444444444444, \"#bd3786\"], [0.5555555555555556, \"#d8576b\"], [0.6666666666666666, \"#ed7953\"], [0.7777777777777778, \"#fb9f3a\"], [0.8888888888888888, \"#fdca26\"], [1.0, \"#f0f921\"]]}, \"colorway\": [\"#636efa\", \"#EF553B\", \"#00cc96\", \"#ab63fa\", \"#FFA15A\", \"#19d3f3\", \"#FF6692\", \"#B6E880\", \"#FF97FF\", \"#FECB52\"], \"font\": {\"color\": \"#2a3f5f\"}, \"geo\": {\"bgcolor\": \"white\", \"lakecolor\": \"white\", \"landcolor\": \"#E5ECF6\", \"showlakes\": true, \"showland\": true, \"subunitcolor\": \"white\"}, \"hoverlabel\": {\"align\": \"left\"}, \"hovermode\": \"closest\", \"mapbox\": {\"style\": \"light\"}, \"paper_bgcolor\": \"white\", \"plot_bgcolor\": \"#E5ECF6\", \"polar\": {\"angularaxis\": {\"gridcolor\": \"white\", \"linecolor\": \"white\", \"ticks\": \"\"}, \"bgcolor\": \"#E5ECF6\", \"radialaxis\": {\"gridcolor\": \"white\", \"linecolor\": \"white\", \"ticks\": \"\"}}, \"scene\": {\"xaxis\": {\"backgroundcolor\": \"#E5ECF6\", \"gridcolor\": \"white\", \"gridwidth\": 2, \"linecolor\": \"white\", \"showbackground\": true, \"ticks\": \"\", \"zerolinecolor\": \"white\"}, \"yaxis\": {\"backgroundcolor\": \"#E5ECF6\", \"gridcolor\": \"white\", \"gridwidth\": 2, \"linecolor\": \"white\", \"showbackground\": true, \"ticks\": \"\", \"zerolinecolor\": \"white\"}, \"zaxis\": {\"backgroundcolor\": \"#E5ECF6\", \"gridcolor\": \"white\", \"gridwidth\": 2, \"linecolor\": \"white\", \"showbackground\": true, \"ticks\": \"\", \"zerolinecolor\": \"white\"}}, \"shapedefaults\": {\"line\": {\"color\": \"#2a3f5f\"}}, \"ternary\": {\"aaxis\": {\"gridcolor\": \"white\", \"linecolor\": \"white\", \"ticks\": \"\"}, \"baxis\": {\"gridcolor\": \"white\", \"linecolor\": \"white\", \"ticks\": \"\"}, \"bgcolor\": \"#E5ECF6\", \"caxis\": {\"gridcolor\": \"white\", \"linecolor\": \"white\", \"ticks\": \"\"}}, \"title\": {\"x\": 0.05}, \"xaxis\": {\"automargin\": true, \"gridcolor\": \"white\", \"linecolor\": \"white\", \"ticks\": \"\", \"zerolinecolor\": \"white\", \"zerolinewidth\": 2}, \"yaxis\": {\"automargin\": true, \"gridcolor\": \"white\", \"linecolor\": \"white\", \"ticks\": \"\", \"zerolinecolor\": \"white\", \"zerolinewidth\": 2}}}},\n",
       "                        {\"responsive\": true}\n",
       "                    ).then(function(){\n",
       "                            \n",
       "var gd = document.getElementById('63a6fb8d-09e4-4527-af03-c9c7a6e65956');\n",
       "var x = new MutationObserver(function (mutations, observer) {{\n",
       "        var display = window.getComputedStyle(gd).display;\n",
       "        if (!display || display === 'none') {{\n",
       "            console.log([gd, 'removed!']);\n",
       "            Plotly.purge(gd);\n",
       "            observer.disconnect();\n",
       "        }}\n",
       "}});\n",
       "\n",
       "// Listen for the removal of the full notebook cells\n",
       "var notebookContainer = gd.closest('#notebook-container');\n",
       "if (notebookContainer) {{\n",
       "    x.observe(notebookContainer, {childList: true});\n",
       "}}\n",
       "\n",
       "// Listen for the clearing of the current output cell\n",
       "var outputEl = gd.closest('.output');\n",
       "if (outputEl) {{\n",
       "    x.observe(outputEl, {childList: true});\n",
       "}}\n",
       "\n",
       "                        })\n",
       "                };\n",
       "                });\n",
       "            </script>\n",
       "        </div>"
      ]
     },
     "metadata": {},
     "output_type": "display_data"
    }
   ],
   "source": [
    "fig = go.Figure()\n",
    "fig.add_trace(go.Scatter(x=VisualData.loc[VisualData.Lane==1,'t_Entry'], y= VisualData.loc[VisualData.Lane==2,'Headway'],\n",
    "                    mode='markers', name='markers'))\n",
    "fig.update_layout(plot_bgcolor = 'rgb(220,220,220)', shapes= list_shade)\n",
    "fig.show()"
   ]
  },
  {
   "cell_type": "code",
   "execution_count": null,
   "metadata": {},
   "outputs": [],
   "source": []
  }
 ],
 "metadata": {
  "kernelspec": {
   "display_name": "Python 3",
   "language": "python",
   "name": "python3"
  },
  "language_info": {
   "codemirror_mode": {
    "name": "ipython",
    "version": 3
   },
   "file_extension": ".py",
   "mimetype": "text/x-python",
   "name": "python",
   "nbconvert_exporter": "python",
   "pygments_lexer": "ipython3",
   "version": "3.6.8"
  }
 },
 "nbformat": 4,
 "nbformat_minor": 2
}
